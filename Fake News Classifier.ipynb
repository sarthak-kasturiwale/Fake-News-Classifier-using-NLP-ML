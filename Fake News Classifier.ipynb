{
 "cells": [
  {
   "cell_type": "markdown",
   "metadata": {},
   "source": [
    "# Fake News Classication"
   ]
  },
  {
   "cell_type": "markdown",
   "metadata": {},
   "source": [
    "# Introduction"
   ]
  },
  {
   "cell_type": "markdown",
   "metadata": {},
   "source": [
    "- Fake news is false or misleading information presented as news. It often has the aim of damaging the reputation of a person or entity, or making money through advertising revenue.\n",
    "- The prevalence of fake news has increased with the rise of social media, especially the Facebook News Feed. Political polarization, post-truth politics, confirmation bias and social media algorithms have been implicated in the spread of fake news.\n",
    "- Fake news can reduce the impact of real news by competing with it. As a data scientist, our goal is to harness the good of the information age to catalyze change in society and hopefully progress within this field and likeminded researchers over time will reduce the negatives.\n",
    "- So, in this project we are going to design a classifier to classify whether a news is fake or not fake."
   ]
  },
  {
   "cell_type": "markdown",
   "metadata": {},
   "source": [
    "# Dataset Description"
   ]
  },
  {
   "cell_type": "markdown",
   "metadata": {},
   "source": [
    "- The dataset has been downloaded from https://www.kaggle.com/c/fake-news/data\n",
    "- It consist of following :\n",
    "    - train.csv: A full training dataset with the following attributes:\n",
    "\n",
    "        1. id: unique id for a news article\n",
    "        2. title: the title of a news article\n",
    "        3. author: author of the news article\n",
    "        4. text: the text of the article; could be incomplete\n",
    "        5. label: a label that marks the article as potentially unreliable\n",
    "            - 1: unreliable\n",
    "            - 0: reliable\n",
    "\n",
    "    - test.csv: A testing training dataset with all the same attributes at train.csv without the label."
   ]
  },
  {
   "cell_type": "markdown",
   "metadata": {},
   "source": [
    "# 1. Importing Dependencies"
   ]
  },
  {
   "cell_type": "code",
   "execution_count": 1,
   "metadata": {},
   "outputs": [],
   "source": [
    "# Basic Libraries\n",
    "import numpy as np\n",
    "import pandas as pd\n",
    "import matplotlib.pyplot as plt\n",
    "\n",
    "# Sk-learn Libraries \n",
    "from sklearn.naive_bayes import MultinomialNB\n",
    "from sklearn.feature_extraction.text import TfidfTransformer\n",
    "from sklearn.feature_extraction.text import TfidfVectorizer\n",
    "from sklearn.model_selection import train_test_split\n",
    "from sklearn.feature_extraction.text import CountVectorizer\n",
    "\n",
    "# Modelling Algorithms\n",
    "from sklearn.naive_bayes import MultinomialNB\n",
    "from sklearn.linear_model import LogisticRegression\n",
    "from sklearn.linear_model import PassiveAggressiveClassifier\n",
    "from sklearn.svm import SVC\n",
    "from sklearn.ensemble import RandomForestClassifier\n",
    "from sklearn.model_selection import GridSearchCV\n",
    "from xgboost import XGBClassifier\n",
    "\n",
    "# Metrics\n",
    "from sklearn.metrics import classification_report , accuracy_score , confusion_matrix, roc_auc_score\n",
    "from sklearn.metrics import accuracy_score,f1_score\n",
    "from sklearn.model_selection import cross_val_score\n",
    "from sklearn import metrics\n",
    "\n",
    "# NLP Libraries\n",
    "import re\n",
    "import itertools\n",
    "import nltk\n",
    "from nltk.stem import WordNetLemmatizer\n",
    "from nltk.corpus import stopwords\n",
    "from nltk.stem.porter import PorterStemmer\n",
    "\n",
    "# Other Libraries\n",
    "import string\n",
    "from collections import Counter\n",
    "\n",
    "# Keras Libraries\n",
    "from tensorflow.keras.models import Model\n",
    "from tensorflow.keras.layers import LSTM, Activation, Dense, Dropout, Input, Embedding\n",
    "from tensorflow.keras.optimizers import RMSprop\n",
    "from tensorflow.keras.models import Sequential\n",
    "from tensorflow.keras.preprocessing.text import Tokenizer\n",
    "from tensorflow.keras.preprocessing import sequence\n",
    "from tensorflow.keras.utils import to_categorical\n",
    "from tensorflow.keras.callbacks import EarlyStopping\n",
    "from tensorflow.keras.preprocessing.text import one_hot\n",
    "from tensorflow.keras.preprocessing.sequence import pad_sequences\n",
    "%matplotlib inline"
   ]
  },
  {
   "cell_type": "markdown",
   "metadata": {},
   "source": [
    "# 2. Data Reading & Analysis"
   ]
  },
  {
   "cell_type": "code",
   "execution_count": 2,
   "metadata": {},
   "outputs": [],
   "source": [
    "# Reading the data\n",
    "train_data = pd.read_csv('train.csv')\n",
    "test_data = pd.read_csv('test.csv')"
   ]
  },
  {
   "cell_type": "markdown",
   "metadata": {},
   "source": [
    "## Working with Train Data"
   ]
  },
  {
   "cell_type": "code",
   "execution_count": 3,
   "metadata": {},
   "outputs": [
    {
     "data": {
      "text/html": [
       "<div>\n",
       "<style scoped>\n",
       "    .dataframe tbody tr th:only-of-type {\n",
       "        vertical-align: middle;\n",
       "    }\n",
       "\n",
       "    .dataframe tbody tr th {\n",
       "        vertical-align: top;\n",
       "    }\n",
       "\n",
       "    .dataframe thead th {\n",
       "        text-align: right;\n",
       "    }\n",
       "</style>\n",
       "<table border=\"1\" class=\"dataframe\">\n",
       "  <thead>\n",
       "    <tr style=\"text-align: right;\">\n",
       "      <th></th>\n",
       "      <th>id</th>\n",
       "      <th>title</th>\n",
       "      <th>author</th>\n",
       "      <th>text</th>\n",
       "      <th>label</th>\n",
       "    </tr>\n",
       "  </thead>\n",
       "  <tbody>\n",
       "    <tr>\n",
       "      <th>0</th>\n",
       "      <td>0</td>\n",
       "      <td>House Dem Aide: We Didn’t Even See Comey’s Let...</td>\n",
       "      <td>Darrell Lucus</td>\n",
       "      <td>House Dem Aide: We Didn’t Even See Comey’s Let...</td>\n",
       "      <td>1</td>\n",
       "    </tr>\n",
       "    <tr>\n",
       "      <th>1</th>\n",
       "      <td>1</td>\n",
       "      <td>FLYNN: Hillary Clinton, Big Woman on Campus - ...</td>\n",
       "      <td>Daniel J. Flynn</td>\n",
       "      <td>Ever get the feeling your life circles the rou...</td>\n",
       "      <td>0</td>\n",
       "    </tr>\n",
       "    <tr>\n",
       "      <th>2</th>\n",
       "      <td>2</td>\n",
       "      <td>Why the Truth Might Get You Fired</td>\n",
       "      <td>Consortiumnews.com</td>\n",
       "      <td>Why the Truth Might Get You Fired October 29, ...</td>\n",
       "      <td>1</td>\n",
       "    </tr>\n",
       "    <tr>\n",
       "      <th>3</th>\n",
       "      <td>3</td>\n",
       "      <td>15 Civilians Killed In Single US Airstrike Hav...</td>\n",
       "      <td>Jessica Purkiss</td>\n",
       "      <td>Videos 15 Civilians Killed In Single US Airstr...</td>\n",
       "      <td>1</td>\n",
       "    </tr>\n",
       "    <tr>\n",
       "      <th>4</th>\n",
       "      <td>4</td>\n",
       "      <td>Iranian woman jailed for fictional unpublished...</td>\n",
       "      <td>Howard Portnoy</td>\n",
       "      <td>Print \\nAn Iranian woman has been sentenced to...</td>\n",
       "      <td>1</td>\n",
       "    </tr>\n",
       "  </tbody>\n",
       "</table>\n",
       "</div>"
      ],
      "text/plain": [
       "   id                                              title              author  \\\n",
       "0   0  House Dem Aide: We Didn’t Even See Comey’s Let...       Darrell Lucus   \n",
       "1   1  FLYNN: Hillary Clinton, Big Woman on Campus - ...     Daniel J. Flynn   \n",
       "2   2                  Why the Truth Might Get You Fired  Consortiumnews.com   \n",
       "3   3  15 Civilians Killed In Single US Airstrike Hav...     Jessica Purkiss   \n",
       "4   4  Iranian woman jailed for fictional unpublished...      Howard Portnoy   \n",
       "\n",
       "                                                text  label  \n",
       "0  House Dem Aide: We Didn’t Even See Comey’s Let...      1  \n",
       "1  Ever get the feeling your life circles the rou...      0  \n",
       "2  Why the Truth Might Get You Fired October 29, ...      1  \n",
       "3  Videos 15 Civilians Killed In Single US Airstr...      1  \n",
       "4  Print \\nAn Iranian woman has been sentenced to...      1  "
      ]
     },
     "execution_count": 3,
     "metadata": {},
     "output_type": "execute_result"
    }
   ],
   "source": [
    "# Looking at train data\n",
    "train_data.head()"
   ]
  },
  {
   "cell_type": "code",
   "execution_count": 4,
   "metadata": {},
   "outputs": [
    {
     "data": {
      "text/plain": [
       "(20800, 5)"
      ]
     },
     "execution_count": 4,
     "metadata": {},
     "output_type": "execute_result"
    }
   ],
   "source": [
    "# Shape of train_data dataframe\n",
    "train_data.shape"
   ]
  },
  {
   "cell_type": "code",
   "execution_count": 5,
   "metadata": {},
   "outputs": [
    {
     "name": "stdout",
     "output_type": "stream",
     "text": [
      "<class 'pandas.core.frame.DataFrame'>\n",
      "RangeIndex: 20800 entries, 0 to 20799\n",
      "Data columns (total 5 columns):\n",
      " #   Column  Non-Null Count  Dtype \n",
      "---  ------  --------------  ----- \n",
      " 0   id      20800 non-null  int64 \n",
      " 1   title   20242 non-null  object\n",
      " 2   author  18843 non-null  object\n",
      " 3   text    20761 non-null  object\n",
      " 4   label   20800 non-null  int64 \n",
      "dtypes: int64(2), object(3)\n",
      "memory usage: 812.6+ KB\n"
     ]
    }
   ],
   "source": [
    "# Collecting info about the data\n",
    "train_data.info()"
   ]
  },
  {
   "cell_type": "markdown",
   "metadata": {},
   "source": [
    "**Observations:**\n",
    "- It seems there are some null values. Lets pre-process the data"
   ]
  },
  {
   "cell_type": "code",
   "execution_count": 6,
   "metadata": {},
   "outputs": [
    {
     "data": {
      "text/plain": [
       "id           0\n",
       "title      558\n",
       "author    1957\n",
       "text        39\n",
       "label        0\n",
       "dtype: int64"
      ]
     },
     "execution_count": 6,
     "metadata": {},
     "output_type": "execute_result"
    }
   ],
   "source": [
    "# Computing sum of Null values\n",
    "train_data.isnull().sum()"
   ]
  },
  {
   "cell_type": "markdown",
   "metadata": {},
   "source": [
    "**Observations:**\n",
    "- Here we have two choices:\n",
    "    1. Remove the NaN entries\n",
    "    2. Fill the NaN with empty string ' '\n",
    "- It will be good to choose 2nd choice as if model is trained on a concatenation of the title, the author and the main text, the model would be more generalized because adding more words to the input might increase the reliablity of the model."
   ]
  },
  {
   "cell_type": "code",
   "execution_count": 7,
   "metadata": {},
   "outputs": [],
   "source": [
    "# Handling Missing Values\n",
    "train_data = train_data.fillna(' ')"
   ]
  },
  {
   "cell_type": "code",
   "execution_count": 8,
   "metadata": {},
   "outputs": [
    {
     "data": {
      "text/plain": [
       "id        0\n",
       "title     0\n",
       "author    0\n",
       "text      0\n",
       "label     0\n",
       "dtype: int64"
      ]
     },
     "execution_count": 8,
     "metadata": {},
     "output_type": "execute_result"
    }
   ],
   "source": [
    "# Validating\n",
    "train_data.isnull().sum()"
   ]
  },
  {
   "cell_type": "code",
   "execution_count": 9,
   "metadata": {},
   "outputs": [],
   "source": [
    "# Dropping duplicates\n",
    "train_data.drop_duplicates(inplace = True)"
   ]
  },
  {
   "cell_type": "code",
   "execution_count": 10,
   "metadata": {},
   "outputs": [
    {
     "data": {
      "text/html": [
       "<div>\n",
       "<style scoped>\n",
       "    .dataframe tbody tr th:only-of-type {\n",
       "        vertical-align: middle;\n",
       "    }\n",
       "\n",
       "    .dataframe tbody tr th {\n",
       "        vertical-align: top;\n",
       "    }\n",
       "\n",
       "    .dataframe thead th {\n",
       "        text-align: right;\n",
       "    }\n",
       "</style>\n",
       "<table border=\"1\" class=\"dataframe\">\n",
       "  <thead>\n",
       "    <tr style=\"text-align: right;\">\n",
       "      <th></th>\n",
       "      <th>id</th>\n",
       "      <th>title</th>\n",
       "      <th>author</th>\n",
       "      <th>text</th>\n",
       "      <th>label</th>\n",
       "      <th>total</th>\n",
       "    </tr>\n",
       "  </thead>\n",
       "  <tbody>\n",
       "    <tr>\n",
       "      <th>0</th>\n",
       "      <td>0</td>\n",
       "      <td>House Dem Aide: We Didn’t Even See Comey’s Let...</td>\n",
       "      <td>Darrell Lucus</td>\n",
       "      <td>House Dem Aide: We Didn’t Even See Comey’s Let...</td>\n",
       "      <td>1</td>\n",
       "      <td>House Dem Aide: We Didn’t Even See Comey’s Let...</td>\n",
       "    </tr>\n",
       "    <tr>\n",
       "      <th>1</th>\n",
       "      <td>1</td>\n",
       "      <td>FLYNN: Hillary Clinton, Big Woman on Campus - ...</td>\n",
       "      <td>Daniel J. Flynn</td>\n",
       "      <td>Ever get the feeling your life circles the rou...</td>\n",
       "      <td>0</td>\n",
       "      <td>FLYNN: Hillary Clinton, Big Woman on Campus - ...</td>\n",
       "    </tr>\n",
       "    <tr>\n",
       "      <th>2</th>\n",
       "      <td>2</td>\n",
       "      <td>Why the Truth Might Get You Fired</td>\n",
       "      <td>Consortiumnews.com</td>\n",
       "      <td>Why the Truth Might Get You Fired October 29, ...</td>\n",
       "      <td>1</td>\n",
       "      <td>Why the Truth Might Get You Fired Consortiumne...</td>\n",
       "    </tr>\n",
       "    <tr>\n",
       "      <th>3</th>\n",
       "      <td>3</td>\n",
       "      <td>15 Civilians Killed In Single US Airstrike Hav...</td>\n",
       "      <td>Jessica Purkiss</td>\n",
       "      <td>Videos 15 Civilians Killed In Single US Airstr...</td>\n",
       "      <td>1</td>\n",
       "      <td>15 Civilians Killed In Single US Airstrike Hav...</td>\n",
       "    </tr>\n",
       "    <tr>\n",
       "      <th>4</th>\n",
       "      <td>4</td>\n",
       "      <td>Iranian woman jailed for fictional unpublished...</td>\n",
       "      <td>Howard Portnoy</td>\n",
       "      <td>Print \\nAn Iranian woman has been sentenced to...</td>\n",
       "      <td>1</td>\n",
       "      <td>Iranian woman jailed for fictional unpublished...</td>\n",
       "    </tr>\n",
       "  </tbody>\n",
       "</table>\n",
       "</div>"
      ],
      "text/plain": [
       "   id                                              title              author  \\\n",
       "0   0  House Dem Aide: We Didn’t Even See Comey’s Let...       Darrell Lucus   \n",
       "1   1  FLYNN: Hillary Clinton, Big Woman on Campus - ...     Daniel J. Flynn   \n",
       "2   2                  Why the Truth Might Get You Fired  Consortiumnews.com   \n",
       "3   3  15 Civilians Killed In Single US Airstrike Hav...     Jessica Purkiss   \n",
       "4   4  Iranian woman jailed for fictional unpublished...      Howard Portnoy   \n",
       "\n",
       "                                                text  label  \\\n",
       "0  House Dem Aide: We Didn’t Even See Comey’s Let...      1   \n",
       "1  Ever get the feeling your life circles the rou...      0   \n",
       "2  Why the Truth Might Get You Fired October 29, ...      1   \n",
       "3  Videos 15 Civilians Killed In Single US Airstr...      1   \n",
       "4  Print \\nAn Iranian woman has been sentenced to...      1   \n",
       "\n",
       "                                               total  \n",
       "0  House Dem Aide: We Didn’t Even See Comey’s Let...  \n",
       "1  FLYNN: Hillary Clinton, Big Woman on Campus - ...  \n",
       "2  Why the Truth Might Get You Fired Consortiumne...  \n",
       "3  15 Civilians Killed In Single US Airstrike Hav...  \n",
       "4  Iranian woman jailed for fictional unpublished...  "
      ]
     },
     "execution_count": 10,
     "metadata": {},
     "output_type": "execute_result"
    }
   ],
   "source": [
    "# Create a column with all the data available\n",
    "train_data['total'] = train_data['title']+' '+train_data['author']+' '+train_data['text']\n",
    "train_data.head()"
   ]
  },
  {
   "cell_type": "code",
   "execution_count": 11,
   "metadata": {},
   "outputs": [
    {
     "data": {
      "text/html": [
       "<div>\n",
       "<style scoped>\n",
       "    .dataframe tbody tr th:only-of-type {\n",
       "        vertical-align: middle;\n",
       "    }\n",
       "\n",
       "    .dataframe tbody tr th {\n",
       "        vertical-align: top;\n",
       "    }\n",
       "\n",
       "    .dataframe thead tr th {\n",
       "        text-align: left;\n",
       "    }\n",
       "\n",
       "    .dataframe thead tr:last-of-type th {\n",
       "        text-align: right;\n",
       "    }\n",
       "</style>\n",
       "<table border=\"1\" class=\"dataframe\">\n",
       "  <thead>\n",
       "    <tr>\n",
       "      <th></th>\n",
       "      <th colspan=\"8\" halign=\"left\">id</th>\n",
       "    </tr>\n",
       "    <tr>\n",
       "      <th></th>\n",
       "      <th>count</th>\n",
       "      <th>mean</th>\n",
       "      <th>std</th>\n",
       "      <th>min</th>\n",
       "      <th>25%</th>\n",
       "      <th>50%</th>\n",
       "      <th>75%</th>\n",
       "      <th>max</th>\n",
       "    </tr>\n",
       "    <tr>\n",
       "      <th>label</th>\n",
       "      <th></th>\n",
       "      <th></th>\n",
       "      <th></th>\n",
       "      <th></th>\n",
       "      <th></th>\n",
       "      <th></th>\n",
       "      <th></th>\n",
       "      <th></th>\n",
       "    </tr>\n",
       "  </thead>\n",
       "  <tbody>\n",
       "    <tr>\n",
       "      <th>0</th>\n",
       "      <td>10387.0</td>\n",
       "      <td>10392.644171</td>\n",
       "      <td>5982.025154</td>\n",
       "      <td>1.0</td>\n",
       "      <td>5225.5</td>\n",
       "      <td>10396.0</td>\n",
       "      <td>15565.5</td>\n",
       "      <td>20797.0</td>\n",
       "    </tr>\n",
       "    <tr>\n",
       "      <th>1</th>\n",
       "      <td>10413.0</td>\n",
       "      <td>10406.338711</td>\n",
       "      <td>6027.288133</td>\n",
       "      <td>0.0</td>\n",
       "      <td>5159.0</td>\n",
       "      <td>10403.0</td>\n",
       "      <td>15629.0</td>\n",
       "      <td>20799.0</td>\n",
       "    </tr>\n",
       "  </tbody>\n",
       "</table>\n",
       "</div>"
      ],
      "text/plain": [
       "            id                                                            \\\n",
       "         count          mean          std  min     25%      50%      75%   \n",
       "label                                                                      \n",
       "0      10387.0  10392.644171  5982.025154  1.0  5225.5  10396.0  15565.5   \n",
       "1      10413.0  10406.338711  6027.288133  0.0  5159.0  10403.0  15629.0   \n",
       "\n",
       "                \n",
       "           max  \n",
       "label           \n",
       "0      20797.0  \n",
       "1      20799.0  "
      ]
     },
     "execution_count": 11,
     "metadata": {},
     "output_type": "execute_result"
    }
   ],
   "source": [
    "## Let's use groupby to use describe by label, this way we can begin to think about the features that separate \n",
    "# Fake or Not Fake!\n",
    "\n",
    "train_data.groupby('label').describe()"
   ]
  },
  {
   "cell_type": "markdown",
   "metadata": {},
   "source": [
    "**Observations:**\n",
    "- Data looks balanced"
   ]
  },
  {
   "cell_type": "code",
   "execution_count": 12,
   "metadata": {},
   "outputs": [
    {
     "data": {
      "text/html": [
       "<div>\n",
       "<style scoped>\n",
       "    .dataframe tbody tr th:only-of-type {\n",
       "        vertical-align: middle;\n",
       "    }\n",
       "\n",
       "    .dataframe tbody tr th {\n",
       "        vertical-align: top;\n",
       "    }\n",
       "\n",
       "    .dataframe thead th {\n",
       "        text-align: right;\n",
       "    }\n",
       "</style>\n",
       "<table border=\"1\" class=\"dataframe\">\n",
       "  <thead>\n",
       "    <tr style=\"text-align: right;\">\n",
       "      <th></th>\n",
       "      <th>id</th>\n",
       "      <th>title</th>\n",
       "      <th>author</th>\n",
       "      <th>text</th>\n",
       "      <th>label</th>\n",
       "      <th>total</th>\n",
       "      <th>news_length</th>\n",
       "    </tr>\n",
       "  </thead>\n",
       "  <tbody>\n",
       "    <tr>\n",
       "      <th>0</th>\n",
       "      <td>0</td>\n",
       "      <td>House Dem Aide: We Didn’t Even See Comey’s Let...</td>\n",
       "      <td>Darrell Lucus</td>\n",
       "      <td>House Dem Aide: We Didn’t Even See Comey’s Let...</td>\n",
       "      <td>1</td>\n",
       "      <td>House Dem Aide: We Didn’t Even See Comey’s Let...</td>\n",
       "      <td>4930</td>\n",
       "    </tr>\n",
       "    <tr>\n",
       "      <th>1</th>\n",
       "      <td>1</td>\n",
       "      <td>FLYNN: Hillary Clinton, Big Woman on Campus - ...</td>\n",
       "      <td>Daniel J. Flynn</td>\n",
       "      <td>Ever get the feeling your life circles the rou...</td>\n",
       "      <td>0</td>\n",
       "      <td>FLYNN: Hillary Clinton, Big Woman on Campus - ...</td>\n",
       "      <td>4160</td>\n",
       "    </tr>\n",
       "    <tr>\n",
       "      <th>2</th>\n",
       "      <td>2</td>\n",
       "      <td>Why the Truth Might Get You Fired</td>\n",
       "      <td>Consortiumnews.com</td>\n",
       "      <td>Why the Truth Might Get You Fired October 29, ...</td>\n",
       "      <td>1</td>\n",
       "      <td>Why the Truth Might Get You Fired Consortiumne...</td>\n",
       "      <td>7692</td>\n",
       "    </tr>\n",
       "    <tr>\n",
       "      <th>3</th>\n",
       "      <td>3</td>\n",
       "      <td>15 Civilians Killed In Single US Airstrike Hav...</td>\n",
       "      <td>Jessica Purkiss</td>\n",
       "      <td>Videos 15 Civilians Killed In Single US Airstr...</td>\n",
       "      <td>1</td>\n",
       "      <td>15 Civilians Killed In Single US Airstrike Hav...</td>\n",
       "      <td>3237</td>\n",
       "    </tr>\n",
       "    <tr>\n",
       "      <th>4</th>\n",
       "      <td>4</td>\n",
       "      <td>Iranian woman jailed for fictional unpublished...</td>\n",
       "      <td>Howard Portnoy</td>\n",
       "      <td>Print \\nAn Iranian woman has been sentenced to...</td>\n",
       "      <td>1</td>\n",
       "      <td>Iranian woman jailed for fictional unpublished...</td>\n",
       "      <td>938</td>\n",
       "    </tr>\n",
       "  </tbody>\n",
       "</table>\n",
       "</div>"
      ],
      "text/plain": [
       "   id                                              title              author  \\\n",
       "0   0  House Dem Aide: We Didn’t Even See Comey’s Let...       Darrell Lucus   \n",
       "1   1  FLYNN: Hillary Clinton, Big Woman on Campus - ...     Daniel J. Flynn   \n",
       "2   2                  Why the Truth Might Get You Fired  Consortiumnews.com   \n",
       "3   3  15 Civilians Killed In Single US Airstrike Hav...     Jessica Purkiss   \n",
       "4   4  Iranian woman jailed for fictional unpublished...      Howard Portnoy   \n",
       "\n",
       "                                                text  label  \\\n",
       "0  House Dem Aide: We Didn’t Even See Comey’s Let...      1   \n",
       "1  Ever get the feeling your life circles the rou...      0   \n",
       "2  Why the Truth Might Get You Fired October 29, ...      1   \n",
       "3  Videos 15 Civilians Killed In Single US Airstr...      1   \n",
       "4  Print \\nAn Iranian woman has been sentenced to...      1   \n",
       "\n",
       "                                               total  news_length  \n",
       "0  House Dem Aide: We Didn’t Even See Comey’s Let...         4930  \n",
       "1  FLYNN: Hillary Clinton, Big Woman on Campus - ...         4160  \n",
       "2  Why the Truth Might Get You Fired Consortiumne...         7692  \n",
       "3  15 Civilians Killed In Single US Airstrike Hav...         3237  \n",
       "4  Iranian woman jailed for fictional unpublished...          938  "
      ]
     },
     "execution_count": 12,
     "metadata": {},
     "output_type": "execute_result"
    }
   ],
   "source": [
    "# Let's make a new column to detect how news are:\n",
    "train_data['news_length'] = train_data['text'].apply(len)\n",
    "train_data.head()"
   ]
  },
  {
   "cell_type": "code",
   "execution_count": 13,
   "metadata": {},
   "outputs": [
    {
     "data": {
      "text/plain": [
       "count     20800.000000\n",
       "mean       4544.180913\n",
       "std        5129.532125\n",
       "min           1.000000\n",
       "25%        1619.000000\n",
       "50%        3352.000000\n",
       "75%        6265.500000\n",
       "max      142961.000000\n",
       "Name: news_length, dtype: float64"
      ]
     },
     "execution_count": 13,
     "metadata": {},
     "output_type": "execute_result"
    }
   ],
   "source": [
    "# Analysing the 'news_length' feature\n",
    "train_data['news_length'].describe()"
   ]
  },
  {
   "cell_type": "code",
   "execution_count": 14,
   "metadata": {},
   "outputs": [
    {
     "data": {
      "text/plain": [
       "'Заседание Международного дискуссионного клуба «Валдай», Владимир В. Путин'"
      ]
     },
     "execution_count": 14,
     "metadata": {},
     "output_type": "execute_result"
    }
   ],
   "source": [
    "# Max is 142961 characters, let's use masking to find this news\n",
    "train_data[train_data['news_length'] == 142961]['title'].iloc[0]"
   ]
  },
  {
   "cell_type": "code",
   "execution_count": 15,
   "metadata": {},
   "outputs": [
    {
     "data": {
      "text/plain": [
       "[Text(0.5, 0, 'Length of news'),\n",
       " Text(0, 0.5, 'Frequency'),\n",
       " Text(0.5, 1.0, 'Reliable / Not Fake')]"
      ]
     },
     "execution_count": 15,
     "metadata": {},
     "output_type": "execute_result"
    },
    {
     "data": {
      "image/png": "[encoded data removed]",
      "text/plain": [
       "<Figure size 864x432 with 2 Axes>"
      ]
     },
     "metadata": {
      "needs_background": "light"
     },
     "output_type": "display_data"
    }
   ],
   "source": [
    "# Lets see if news length is a distinguishing feature between Fake and Not Fake:\n",
    "\n",
    "fig,ax = plt.subplots(nrows = 1, ncols = 2, figsize = (12,6))\n",
    "\n",
    "train_data[train_data['label'] == 1].hist(column = 'news_length', bins = 150, ax = ax[0], color = 'green')\n",
    "ax[0].set(xlabel = 'Length of news', ylabel = 'Frequency', title = 'Non - Reliable / Fake')\n",
    "\n",
    "train_data[train_data['label'] == 0].hist(column = 'news_length', bins = 50, ax = ax[1], color = 'red')\n",
    "ax[1].set(xlabel = 'Length of news', ylabel = 'Frequency', title = 'Reliable / Not Fake')"
   ]
  },
  {
   "cell_type": "markdown",
   "metadata": {},
   "source": [
    "**Observations:**\n",
    "- As expected Through the basic EDA we've seen that no seperation or trend has observed using 'news_length' feature."
   ]
  },
  {
   "cell_type": "markdown",
   "metadata": {},
   "source": [
    "# 3. Pre-processing"
   ]
  },
  {
   "cell_type": "markdown",
   "metadata": {},
   "source": [
    "- Our main issue with our data is that it is all in text format (strings). The classification algorithms that we've learned about so far will need some sort of numerical feature vector in order to perform the classification task.\n",
    "- There are actually many methods to convert a corpus to a vector format. The simplest is the the bag-of-words approach, where each unique word in a text will be represented by one number."
   ]
  },
  {
   "cell_type": "markdown",
   "metadata": {},
   "source": [
    "## Train-Test Splitting"
   ]
  },
  {
   "cell_type": "code",
   "execution_count": 16,
   "metadata": {},
   "outputs": [],
   "source": [
    "# Dividing the training set by using train_test_split\n",
    "x_train, x_test, y_train, y_test = train_test_split(train_data['total'], train_data.label, test_size = 0.20, random_state = 0)"
   ]
  },
  {
   "cell_type": "markdown",
   "metadata": {},
   "source": [
    "## Vectorizing our Data"
   ]
  },
  {
   "cell_type": "markdown",
   "metadata": {},
   "source": [
    "### 1. Bag-of-Words (Count Vectorizer)"
   ]
  },
  {
   "cell_type": "code",
   "execution_count": 17,
   "metadata": {},
   "outputs": [],
   "source": [
    "# Initialize the 'count_vectorizer' \n",
    "cv = CountVectorizer(ngram_range = (1, 2), stop_words = 'english')\n",
    "\n",
    "# fit and transform the training data\n",
    "count_train = cv.fit_transform(x_train)\n",
    "\n",
    "# Transform the test data \n",
    "count_test = cv.transform(x_test)"
   ]
  },
  {
   "cell_type": "code",
   "execution_count": 18,
   "metadata": {},
   "outputs": [
    {
     "name": "stdout",
     "output_type": "stream",
     "text": [
      "Shape of Sparse Matrix:  (16640, 3922396)\n",
      "Amount of Non-Zero occurences:  10598929\n"
     ]
    }
   ],
   "source": [
    "print('Shape of Sparse Matrix: ', count_train.shape)\n",
    "print('Amount of Non-Zero occurences: ', count_train.nnz)"
   ]
  },
  {
   "cell_type": "code",
   "execution_count": 19,
   "metadata": {},
   "outputs": [
    {
     "name": "stdout",
     "output_type": "stream",
     "text": [
      "Shape of Sparse Matrix:  (4160, 3922396)\n",
      "Amount of Non-Zero occurences:  1864392\n"
     ]
    }
   ],
   "source": [
    "print('Shape of Sparse Matrix: ', count_test.shape)\n",
    "print('Amount of Non-Zero occurences: ', count_test.nnz)"
   ]
  },
  {
   "cell_type": "markdown",
   "metadata": {},
   "source": [
    "### 2. TF-IDF (TFIDF Vectorizer)"
   ]
  },
  {
   "cell_type": "code",
   "execution_count": 20,
   "metadata": {},
   "outputs": [],
   "source": [
    "# Initialize the 'tfidf_vectorizer'\n",
    "tfidf = TfidfVectorizer(ngram_range = (1, 2), stop_words = 'english')\n",
    "\n",
    "# fit and transform the training data \n",
    "tfidf_train = tfidf.fit_transform(x_train)\n",
    "\n",
    "# transform the test set \n",
    "tfidf_test = tfidf.transform(x_test)"
   ]
  },
  {
   "cell_type": "code",
   "execution_count": 21,
   "metadata": {},
   "outputs": [
    {
     "name": "stdout",
     "output_type": "stream",
     "text": [
      "Shape of Sparse Matrix:  (16640, 3922396)\n",
      "Amount of Non-Zero occurences:  10598929\n"
     ]
    }
   ],
   "source": [
    "print('Shape of Sparse Matrix: ', tfidf_train.shape)\n",
    "print('Amount of Non-Zero occurences: ', tfidf_train.nnz)"
   ]
  },
  {
   "cell_type": "code",
   "execution_count": 22,
   "metadata": {},
   "outputs": [
    {
     "name": "stdout",
     "output_type": "stream",
     "text": [
      "Shape of Sparse Matrix:  (4160, 3922396)\n",
      "Amount of Non-Zero occurences:  1864392\n"
     ]
    }
   ],
   "source": [
    "print('Shape of Sparse Matrix: ', tfidf_test.shape)\n",
    "print('Amount of Non-Zero occurences: ', tfidf_test.nnz)"
   ]
  },
  {
   "cell_type": "markdown",
   "metadata": {},
   "source": [
    "### 3. Pipelined (BOW-TFIDF Transformer)"
   ]
  },
  {
   "cell_type": "code",
   "execution_count": 23,
   "metadata": {},
   "outputs": [],
   "source": [
    "# Initialize the 'tfidf_transformer'\n",
    "tv = TfidfTransformer()\n",
    "\n",
    "# Learn the training data vocabulary, then use it to create a document-term matrix\n",
    "pipelined_train = tv.fit_transform(count_train)\n",
    "\n",
    "# Transform test data (using fitted vocabulary) into a document-term matrix\n",
    "pipelined_test = tv.transform(count_test)"
   ]
  },
  {
   "cell_type": "code",
   "execution_count": 24,
   "metadata": {},
   "outputs": [
    {
     "name": "stdout",
     "output_type": "stream",
     "text": [
      "Shape of Sparse Matrix:  (16640, 3922396)\n",
      "Amount of Non-Zero occurences:  10598929\n"
     ]
    }
   ],
   "source": [
    "print('Shape of Sparse Matrix: ', pipelined_train.shape)\n",
    "print('Amount of Non-Zero occurences: ', pipelined_train.nnz)"
   ]
  },
  {
   "cell_type": "code",
   "execution_count": 25,
   "metadata": {},
   "outputs": [
    {
     "name": "stdout",
     "output_type": "stream",
     "text": [
      "Shape of Sparse Matrix:  (4160, 3922396)\n",
      "Amount of Non-Zero occurences:  1864392\n"
     ]
    }
   ],
   "source": [
    "print('Shape of Sparse Matrix: ', pipelined_test.shape)\n",
    "print('Amount of Non-Zero occurences: ', pipelined_test.nnz)"
   ]
  },
  {
   "cell_type": "markdown",
   "metadata": {},
   "source": [
    " # 4. Building and Evaluating a Model"
   ]
  },
  {
   "cell_type": "code",
   "execution_count": 26,
   "metadata": {},
   "outputs": [],
   "source": [
    "# Defining a function that outputs a confusion matrix\n",
    "\n",
    "def plot_confusion_matrix(cm, classes, normalize = False, title = 'Confusion matrix', cmap = plt.cm.Blues):\n",
    "    \n",
    "    plt.imshow(cm, interpolation = 'nearest', cmap = cmap)\n",
    "    plt.title(title)\n",
    "    plt.colorbar()\n",
    "    tick_marks = np.arange(len(classes))\n",
    "    plt.xticks(tick_marks, classes, rotation = 45)\n",
    "    plt.yticks(tick_marks, classes)\n",
    "    thresh = cm.max() / 2.\n",
    "    for i, j in itertools.product(range(cm.shape[0]), range(cm.shape[1])):\n",
    "        plt.text(j, i, cm[i, j], horizontalalignment = \"center\", color = \"white\" if cm[i, j] > thresh else \"black\")\n",
    "\n",
    "    plt.tight_layout()\n",
    "    plt.ylabel('True label')\n",
    "    plt.xlabel('Predicted label')"
   ]
  },
  {
   "cell_type": "markdown",
   "metadata": {},
   "source": [
    "## 1. Multinomial Naive Bayes"
   ]
  },
  {
   "cell_type": "markdown",
   "metadata": {},
   "source": [
    "### 1.1 Multinomial Naive Bayes with Count Vectorizer (Bag-of-Words)"
   ]
  },
  {
   "cell_type": "code",
   "execution_count": 27,
   "metadata": {},
   "outputs": [
    {
     "name": "stdout",
     "output_type": "stream",
     "text": [
      "Fitting 3 folds for each of 4 candidates, totalling 12 fits\n"
     ]
    },
    {
     "name": "stderr",
     "output_type": "stream",
     "text": [
      "[Parallel(n_jobs=-1)]: Using backend LokyBackend with 4 concurrent workers.\n",
      "[Parallel(n_jobs=-1)]: Done  12 out of  12 | elapsed:   14.5s finished\n"
     ]
    },
    {
     "name": "stdout",
     "output_type": "stream",
     "text": [
      "Best Parameters For Multinomial Naive Bayes for Bag-of-Words :  {'alpha': 0.1}\n",
      "--------------------------------------------------------------------------------------------------------------\n",
      "Training Accuracy Multinomial for Naive Bayes for Bag-of-Words :\n",
      "1.0\n",
      "--------------------------------------------------------------------------------------------------------------\n",
      "Test Accuracy Multinomial for Naive Bayes for Bag-of-Words :\n",
      "0.942548076923077\n",
      "--------------------------------------------------------------------------------------------------------------\n"
     ]
    },
    {
     "data": {
      "image/png": "[encoded data removed]",
      "text/plain": [
       "<Figure size 432x288 with 2 Axes>"
      ]
     },
     "metadata": {
      "needs_background": "light"
     },
     "output_type": "display_data"
    }
   ],
   "source": [
    "# Tuning Hyper-Parameters\n",
    "grid_parameters = {'alpha' : [0.01, 0.1, 0.15, 0.2]}\n",
    "\n",
    "# Instantiate the classifier\n",
    "nb_classifier_bow = GridSearchCV(MultinomialNB(), grid_parameters, verbose = 1, cv = 3, n_jobs = -1)\n",
    "\n",
    "# Train the model using count_train\n",
    "nb_classifier_bow.fit(count_train, y_train)\n",
    "\n",
    "# Finding best_estimator\n",
    "nb_classifier_bow_best = nb_classifier_bow.best_estimator_\n",
    "\n",
    "# Predicting for Test data using count_test\n",
    "y_pred_nb = nb_classifier_bow_best.predict(count_test)\n",
    "\n",
    "print (\"Best Parameters For Multinomial Naive Bayes for Bag-of-Words : \", nb_classifier_bow.best_params_)\n",
    "print('-'*110)\n",
    "\n",
    "# Evaluation\n",
    "print(\"Training Accuracy Multinomial for Naive Bayes for Bag-of-Words :\")\n",
    "print(nb_classifier_bow_best.score(count_train, y_train))\n",
    "print('-'*110)\n",
    "\n",
    "print(\"Test Accuracy Multinomial for Naive Bayes for Bag-of-Words :\")\n",
    "print(accuracy_score(y_pred_nb , y_test))\n",
    "print('-'*110)\n",
    "\n",
    "# Plotting Confusion matrix\n",
    "cm = metrics.confusion_matrix(y_test, y_pred_nb, labels = [0,1])\n",
    "plot_confusion_matrix(cm, classes = ['TRUE','FAKE'], title ='Confusion Matrix for a MultinomialNB with Count Vectorizer')"
   ]
  },
  {
   "cell_type": "markdown",
   "metadata": {},
   "source": [
    "### 1.2 Multinomial Naive Bayes with TF-IDF Vectorizer"
   ]
  },
  {
   "cell_type": "code",
   "execution_count": 28,
   "metadata": {},
   "outputs": [
    {
     "name": "stdout",
     "output_type": "stream",
     "text": [
      "Fitting 3 folds for each of 4 candidates, totalling 12 fits\n"
     ]
    },
    {
     "name": "stderr",
     "output_type": "stream",
     "text": [
      "[Parallel(n_jobs=-1)]: Using backend LokyBackend with 4 concurrent workers.\n",
      "[Parallel(n_jobs=-1)]: Done  12 out of  12 | elapsed:    7.7s finished\n"
     ]
    },
    {
     "name": "stdout",
     "output_type": "stream",
     "text": [
      "Best Parameters For Multinomial Naive Bayes for TFIDF vectorizer :  {'alpha': 0.01}\n",
      "--------------------------------------------------------------------------------------------------------------\n",
      "Training Accuracy Multinomial Naive Bayes for TFIDF vectorizer :\n",
      "1.0\n",
      "--------------------------------------------------------------------------------------------------------------\n",
      "Test Accuracy Multinomial Naive Bayes for TFIDF vectorizer :\n",
      "0.94375\n",
      "--------------------------------------------------------------------------------------------------------------\n"
     ]
    },
    {
     "data": {
      "image/png": "[encoded data removed]",
      "text/plain": [
       "<Figure size 432x288 with 2 Axes>"
      ]
     },
     "metadata": {
      "needs_background": "light"
     },
     "output_type": "display_data"
    }
   ],
   "source": [
    "# Tuning Hyper-Parameters\n",
    "grid_parameters = {'alpha' : [0.01, 0.1, 0.15, 0.2]}\n",
    "\n",
    "# Instantiate the classifier\n",
    "nb_classifier_tfidf = GridSearchCV(MultinomialNB(), grid_parameters, verbose = 1, cv = 3, n_jobs = -1)\n",
    "\n",
    "# Train the model using tfidf_train\n",
    "nb_classifier_tfidf.fit(tfidf_train, y_train)\n",
    "\n",
    "# Finding best_estimator\n",
    "nb_classifier_tfidf_best = nb_classifier_tfidf.best_estimator_\n",
    "\n",
    "# Predicting for Test data using tfidf_test\n",
    "y_pred_nb_tfidf = nb_classifier_tfidf_best.predict(tfidf_test)\n",
    "\n",
    "print (\"Best Parameters For Multinomial Naive Bayes for TFIDF vectorizer : \", nb_classifier_tfidf.best_params_)\n",
    "print('-'*110)\n",
    "\n",
    "# Evaluation\n",
    "print(\"Training Accuracy Multinomial Naive Bayes for TFIDF vectorizer :\")\n",
    "print(nb_classifier_tfidf_best.score(tfidf_train, y_train))\n",
    "print('-'*110)\n",
    "\n",
    "print(\"Test Accuracy Multinomial Naive Bayes for TFIDF vectorizer :\")\n",
    "print(accuracy_score(y_pred_nb_tfidf , y_test))\n",
    "print('-'*110)\n",
    "\n",
    "# Plotting Confusion matrix\n",
    "cm = metrics.confusion_matrix(y_test, y_pred_nb_tfidf, labels = [0,1])\n",
    "plot_confusion_matrix(cm, classes = ['TRUE','FAKE'], title ='Confusion Matrix for a Multinomial Naive Bayes for TFIDF vectorizer')"
   ]
  },
  {
   "cell_type": "markdown",
   "metadata": {},
   "source": [
    "### 1.3 Multinomial Naive Bayes with Pipelined(BOW-TF-IDF Transformer)"
   ]
  },
  {
   "cell_type": "code",
   "execution_count": 29,
   "metadata": {},
   "outputs": [
    {
     "name": "stdout",
     "output_type": "stream",
     "text": [
      "Fitting 3 folds for each of 4 candidates, totalling 12 fits\n"
     ]
    },
    {
     "name": "stderr",
     "output_type": "stream",
     "text": [
      "[Parallel(n_jobs=-1)]: Using backend LokyBackend with 4 concurrent workers.\n",
      "[Parallel(n_jobs=-1)]: Done  12 out of  12 | elapsed:    6.4s finished\n"
     ]
    },
    {
     "name": "stdout",
     "output_type": "stream",
     "text": [
      "Best Parameters For Multinomial Naive Bayes for Pipelined Transformer :  {'alpha': 0.01}\n",
      "--------------------------------------------------------------------------------------------------------------\n",
      "Training Accuracy Multinomial Naive Bayes for pipelined Transformer :\n",
      "1.0\n",
      "--------------------------------------------------------------------------------------------------------------\n",
      "Test Accuracy Multinomial Naive Bayes for Pipelined Transformer :\n",
      "0.94375\n",
      "--------------------------------------------------------------------------------------------------------------\n"
     ]
    },
    {
     "data": {
      "image/png": "[encoded data removed]",
      "text/plain": [
       "<Figure size 432x288 with 2 Axes>"
      ]
     },
     "metadata": {
      "needs_background": "light"
     },
     "output_type": "display_data"
    }
   ],
   "source": [
    "# Tuning Hyper-Parameters\n",
    "grid_parameters = {'alpha' : [0.01, 0.1, 0.15, 0.2]}\n",
    "\n",
    "# Instantiate the classifier\n",
    "nb_classifier_pipelined = GridSearchCV(MultinomialNB(), grid_parameters, verbose = 1, cv = 3, n_jobs = -1)\n",
    "\n",
    "# Train the model using pipelined_train\n",
    "nb_classifier_pipelined.fit(pipelined_train, y_train)\n",
    "\n",
    "# Finding best_estimator\n",
    "nb_classifier_pipelined_best = nb_classifier_pipelined.best_estimator_\n",
    "\n",
    "# Predicting for Test data using pipelined_test\n",
    "y_pred_nb_pipelined = nb_classifier_pipelined_best.predict(pipelined_test)\n",
    "\n",
    "print (\"Best Parameters For Multinomial Naive Bayes for Pipelined Transformer : \", nb_classifier_pipelined.best_params_)\n",
    "print('-'*110)\n",
    "\n",
    "# Evaluation\n",
    "print(\"Training Accuracy Multinomial Naive Bayes for pipelined Transformer :\")\n",
    "print(nb_classifier_pipelined_best.score(tfidf_train, y_train))\n",
    "print('-'*110)\n",
    "\n",
    "print(\"Test Accuracy Multinomial Naive Bayes for Pipelined Transformer :\")\n",
    "print(accuracy_score(y_pred_nb_pipelined , y_test))\n",
    "print('-'*110)\n",
    "\n",
    "# Plotting Confusion matrix\n",
    "cm = metrics.confusion_matrix(y_test, y_pred_nb_pipelined, labels = [0,1])\n",
    "plot_confusion_matrix(cm, classes = ['TRUE','FAKE'], title ='Confusion Matrix for a Multinomial Naive Bayes for Pipelined Transformer')"
   ]
  },
  {
   "cell_type": "markdown",
   "metadata": {},
   "source": [
    "## 2. Passive Agressive Classifier"
   ]
  },
  {
   "cell_type": "markdown",
   "metadata": {},
   "source": [
    "### 2.1 Passive Agressive Classifier With Count Vectorizer (Bag-of-Words)"
   ]
  },
  {
   "cell_type": "code",
   "execution_count": 30,
   "metadata": {},
   "outputs": [
    {
     "name": "stdout",
     "output_type": "stream",
     "text": [
      "Fitting 3 folds for each of 4 candidates, totalling 12 fits\n"
     ]
    },
    {
     "name": "stderr",
     "output_type": "stream",
     "text": [
      "[Parallel(n_jobs=-1)]: Using backend LokyBackend with 4 concurrent workers.\n",
      "[Parallel(n_jobs=-1)]: Done  12 out of  12 | elapsed:   19.3s finished\n"
     ]
    },
    {
     "name": "stdout",
     "output_type": "stream",
     "text": [
      "Best Parameters For Passive Agressive Classifier for Bag-of-Words :  {'C': 1}\n",
      "--------------------------------------------------------------------------------------------------------------\n",
      "Training Accuracy Passive Agressive Classifier for Bag-of-Words :\n",
      "1.0\n",
      "--------------------------------------------------------------------------------------------------------------\n",
      "Test Accuracy Passive Agressive Classifier for Bag-of-Words :\n",
      "0.9658653846153846\n",
      "--------------------------------------------------------------------------------------------------------------\n"
     ]
    },
    {
     "data": {
      "image/png": "[encoded data removed]",
      "text/plain": [
       "<Figure size 432x288 with 2 Axes>"
      ]
     },
     "metadata": {
      "needs_background": "light"
     },
     "output_type": "display_data"
    }
   ],
   "source": [
    "# Tuning Hyper-Parameters\n",
    "grid_parameters = {'C' : [0.01, 0.1, 0.5, 1]}\n",
    "\n",
    "# Instantiate the classifier\n",
    "pac_classifier_bow = GridSearchCV(PassiveAggressiveClassifier(), grid_parameters, verbose = 1, cv = 3, n_jobs = -1)\n",
    "\n",
    "# Train the model using count_train\n",
    "pac_classifier_bow.fit(count_train, y_train)\n",
    "\n",
    "# Finding best_estimator\n",
    "pac_classifier_bow_best = pac_classifier_bow.best_estimator_\n",
    "\n",
    "# Predicting for Test data using count_test\n",
    "y_pred_pac = pac_classifier_bow_best.predict(count_test)\n",
    "\n",
    "print (\"Best Parameters For Passive Agressive Classifier for Bag-of-Words : \", pac_classifier_bow.best_params_)\n",
    "print('-'*110)\n",
    "\n",
    "# Evaluation\n",
    "print(\"Training Accuracy Passive Agressive Classifier for Bag-of-Words :\")\n",
    "print(pac_classifier_bow_best.score(count_train, y_train))\n",
    "print('-'*110)\n",
    "\n",
    "print(\"Test Accuracy Passive Agressive Classifier for Bag-of-Words :\")\n",
    "print(accuracy_score(y_pred_pac , y_test))\n",
    "print('-'*110)\n",
    "\n",
    "# Plotting Confusion matrix\n",
    "cm = metrics.confusion_matrix(y_test, y_pred_pac, labels = [0,1])\n",
    "plot_confusion_matrix(cm, classes = ['TRUE','FAKE'], title ='Confusion Matrix for a Passive Agressive Classifier with Count Vectorizer')"
   ]
  },
  {
   "cell_type": "markdown",
   "metadata": {},
   "source": [
    "### 2.2 Passive Agressive Classifier With TFIDF Vectorizer"
   ]
  },
  {
   "cell_type": "code",
   "execution_count": 31,
   "metadata": {},
   "outputs": [
    {
     "name": "stdout",
     "output_type": "stream",
     "text": [
      "Fitting 3 folds for each of 5 candidates, totalling 15 fits\n"
     ]
    },
    {
     "name": "stderr",
     "output_type": "stream",
     "text": [
      "[Parallel(n_jobs=-1)]: Using backend LokyBackend with 4 concurrent workers.\n",
      "[Parallel(n_jobs=-1)]: Done  15 out of  15 | elapsed:   19.3s finished\n"
     ]
    },
    {
     "name": "stdout",
     "output_type": "stream",
     "text": [
      "Best Parameters For Passive Agressive Classifier With TFIDF Vectorizer :  {'C': 1}\n",
      "--------------------------------------------------------------------------------------------------------------\n",
      "Training Accuracy for Passive Agressive Classifier With TFIDF Vectorizer :\n",
      "1.0\n",
      "--------------------------------------------------------------------------------------------------------------\n",
      "Test Accuracy for Passive Agressive Classifier With TFIDF Vectorizer :\n",
      "0.979326923076923\n",
      "--------------------------------------------------------------------------------------------------------------\n"
     ]
    },
    {
     "data": {
      "image/png": "[encoded data removed]",
      "text/plain": [
       "<Figure size 432x288 with 2 Axes>"
      ]
     },
     "metadata": {
      "needs_background": "light"
     },
     "output_type": "display_data"
    }
   ],
   "source": [
    "# Tuning Hyper-Parameters\n",
    "grid_parameters = {'C' : [0.01, 0.1, 0.5, 1, 1.5]}\n",
    "\n",
    "# Instantiate the classifier\n",
    "pact_classifier_tfidf = GridSearchCV(PassiveAggressiveClassifier(), grid_parameters, verbose = 1, cv = 3, n_jobs = -1)\n",
    "\n",
    "# Train the model using tfidf_train\n",
    "pact_classifier_tfidf.fit(tfidf_train, y_train)\n",
    "\n",
    "# Finding best_estimator\n",
    "pact_classifier_tfidf_best = pact_classifier_tfidf.best_estimator_\n",
    "\n",
    "# Predicting for Test data using tfidf_test\n",
    "y_pred_pact_tfidf = pact_classifier_tfidf_best.predict(tfidf_test)\n",
    "\n",
    "print (\"Best Parameters For Passive Agressive Classifier With TFIDF Vectorizer : \", pact_classifier_tfidf.best_params_)\n",
    "print('-'*110)\n",
    "\n",
    "# Evaluation\n",
    "print(\"Training Accuracy for Passive Agressive Classifier With TFIDF Vectorizer :\")\n",
    "print(pact_classifier_tfidf_best.score(tfidf_train, y_train))\n",
    "print('-'*110)\n",
    "\n",
    "print(\"Test Accuracy for Passive Agressive Classifier With TFIDF Vectorizer :\")\n",
    "print(accuracy_score(y_pred_pact_tfidf , y_test))\n",
    "print('-'*110)\n",
    "\n",
    "# Plotting Confusion matrix\n",
    "cm = metrics.confusion_matrix(y_test, y_pred_pact_tfidf, labels = [0,1])\n",
    "plot_confusion_matrix(cm, classes = ['TRUE','FAKE'], title ='Confusion Matrix for a Passive Agressive Classifier With TFIDF Vectorizer')"
   ]
  },
  {
   "cell_type": "markdown",
   "metadata": {},
   "source": [
    "### 2.3 Passive Agressive Classifier With Pipelined (BOW-TFIDF Transformer)"
   ]
  },
  {
   "cell_type": "code",
   "execution_count": 32,
   "metadata": {},
   "outputs": [
    {
     "name": "stdout",
     "output_type": "stream",
     "text": [
      "Fitting 3 folds for each of 5 candidates, totalling 15 fits\n"
     ]
    },
    {
     "name": "stderr",
     "output_type": "stream",
     "text": [
      "[Parallel(n_jobs=-1)]: Using backend LokyBackend with 4 concurrent workers.\n",
      "[Parallel(n_jobs=-1)]: Done  15 out of  15 | elapsed:   19.4s finished\n"
     ]
    },
    {
     "name": "stdout",
     "output_type": "stream",
     "text": [
      "Best Parameters For Passive Agressive Classifier With Pipelined Transformer :  {'C': 0.1}\n",
      "--------------------------------------------------------------------------------------------------------------\n",
      "Training Accuracy Passive Agressive Classifier With Pipelined Transformer :\n",
      "0.9999399038461538\n",
      "--------------------------------------------------------------------------------------------------------------\n",
      "Test Accuracy Passive Agressive Classifier With Pipelined Transformer :\n",
      "0.9802884615384615\n",
      "--------------------------------------------------------------------------------------------------------------\n"
     ]
    },
    {
     "data": {
      "image/png": "[encoded data removed]",
      "text/plain": [
       "<Figure size 432x288 with 2 Axes>"
      ]
     },
     "metadata": {
      "needs_background": "light"
     },
     "output_type": "display_data"
    }
   ],
   "source": [
    "# Tuning Hyper-Parameters\n",
    "grid_parameters = {'C' : [0.01, 0.1, 0.5, 1, 1.5]}\n",
    "\n",
    "# Instantiate the classifier\n",
    "pacp_classifier_pipelined = GridSearchCV(PassiveAggressiveClassifier(), grid_parameters, verbose = 1, cv = 3, n_jobs = -1)\n",
    "\n",
    "# Train the model using pipelined_train\n",
    "pacp_classifier_pipelined.fit(pipelined_train, y_train)\n",
    "\n",
    "# Finding best_estimator\n",
    "pacp_classifier_pipelined_best = pacp_classifier_pipelined.best_estimator_\n",
    "\n",
    "# Predicting for Test data using pipelined_test\n",
    "y_pred_pacp_pipelined = pacp_classifier_pipelined_best.predict(pipelined_test)\n",
    "\n",
    "print (\"Best Parameters For Passive Agressive Classifier With Pipelined Transformer : \", pacp_classifier_pipelined.best_params_)\n",
    "print('-'*110)\n",
    "\n",
    "# Evaluation\n",
    "print(\"Training Accuracy Passive Agressive Classifier With Pipelined Transformer :\")\n",
    "print(pacp_classifier_pipelined_best.score(tfidf_train, y_train))\n",
    "print('-'*110)\n",
    "\n",
    "print(\"Test Accuracy Passive Agressive Classifier With Pipelined Transformer :\")\n",
    "print(accuracy_score(y_pred_pacp_pipelined , y_test))\n",
    "print('-'*110)\n",
    "\n",
    "# Plotting Confusion matrix\n",
    "cm = metrics.confusion_matrix(y_test, y_pred_pacp_pipelined, labels = [0,1])\n",
    "plot_confusion_matrix(cm, classes = ['TRUE','FAKE'], title ='Confusion Matrix for a Passive Agressive Classifier With Pipelined Transformer')"
   ]
  },
  {
   "cell_type": "markdown",
   "metadata": {},
   "source": [
    "## 3.  Logistic Regression"
   ]
  },
  {
   "cell_type": "markdown",
   "metadata": {},
   "source": [
    "### 3.1 Logistic Regression with CountVectorizer (Bag-of-Words)"
   ]
  },
  {
   "cell_type": "code",
   "execution_count": 33,
   "metadata": {},
   "outputs": [
    {
     "name": "stdout",
     "output_type": "stream",
     "text": [
      "Fitting 3 folds for each of 10 candidates, totalling 30 fits\n"
     ]
    },
    {
     "name": "stderr",
     "output_type": "stream",
     "text": [
      "[Parallel(n_jobs=-1)]: Using backend LokyBackend with 4 concurrent workers.\n",
      "[Parallel(n_jobs=-1)]: Done  30 out of  30 | elapsed: 12.7min finished\n",
      "C:\\Users\\sami\\AppData\\Local\\Continuum\\anaconda3\\lib\\site-packages\\sklearn\\linear_model\\_logistic.py:764: ConvergenceWarning: lbfgs failed to converge (status=1):\n",
      "STOP: TOTAL NO. of ITERATIONS REACHED LIMIT.\n",
      "\n",
      "Increase the number of iterations (max_iter) or scale the data as shown in:\n",
      "    https://scikit-learn.org/stable/modules/preprocessing.html\n",
      "Please also refer to the documentation for alternative solver options:\n",
      "    https://scikit-learn.org/stable/modules/linear_model.html#logistic-regression\n",
      "  extra_warning_msg=_LOGISTIC_SOLVER_CONVERGENCE_MSG)\n"
     ]
    },
    {
     "name": "stdout",
     "output_type": "stream",
     "text": [
      "Best Parameters For Logistic Regression for Bag-of-Words :  {'C': 1.5, 'penalty': 'l2'}\n",
      "--------------------------------------------------------------------------------------------------------------\n",
      "Training Accuracy for Logistic Regression for Bag-of-Words :\n",
      "1.0\n",
      "--------------------------------------------------------------------------------------------------------------\n",
      "Test Accuracy for Logistic Regression for Bag-of-Words :\n",
      "0.9788461538461538\n",
      "--------------------------------------------------------------------------------------------------------------\n"
     ]
    },
    {
     "data": {
      "image/png": "[encoded data removed]",
      "text/plain": [
       "<Figure size 432x288 with 2 Axes>"
      ]
     },
     "metadata": {
      "needs_background": "light"
     },
     "output_type": "display_data"
    }
   ],
   "source": [
    "# Tuning Hyper-Parameters\n",
    "grid_parameters = {'C' : [0.01, 0.1, 0.5, 1, 1.5], 'penalty': ['l1','l2']}\n",
    "\n",
    "# Instantiate the classifier\n",
    "lr_classifier_bow = GridSearchCV(LogisticRegression(), grid_parameters, verbose = 1, cv = 3, n_jobs = -1)\n",
    "\n",
    "# Train the model using count_train\n",
    "lr_classifier_bow.fit(count_train, y_train)\n",
    "\n",
    "# Finding best_estimator\n",
    "lr_classifier_bow_best = lr_classifier_bow.best_estimator_\n",
    "\n",
    "# Predicting for Test data using count_test\n",
    "y_pred_lr = lr_classifier_bow_best.predict(count_test)\n",
    "\n",
    "print (\"Best Parameters For Logistic Regression for Bag-of-Words : \", lr_classifier_bow.best_params_)\n",
    "print('-'*110)\n",
    "\n",
    "# Evaluation\n",
    "print(\"Training Accuracy for Logistic Regression for Bag-of-Words :\")\n",
    "print(lr_classifier_bow_best.score(count_train, y_train))\n",
    "print('-'*110)\n",
    "\n",
    "print(\"Test Accuracy for Logistic Regression for Bag-of-Words :\")\n",
    "print(accuracy_score(y_pred_lr , y_test))\n",
    "print('-'*110)\n",
    "\n",
    "# Plotting Confusion matrix\n",
    "cm = metrics.confusion_matrix(y_test, y_pred_lr, labels = [0,1])\n",
    "plot_confusion_matrix(cm, classes = ['TRUE','FAKE'], title ='Confusion Matrix for a Logistic Regression with Count Vectorizer')"
   ]
  },
  {
   "cell_type": "markdown",
   "metadata": {},
   "source": [
    "### 3.2 Logistic Regression with TFIDF Vectorizer"
   ]
  },
  {
   "cell_type": "code",
   "execution_count": 34,
   "metadata": {},
   "outputs": [
    {
     "name": "stdout",
     "output_type": "stream",
     "text": [
      "Fitting 3 folds for each of 10 candidates, totalling 30 fits\n"
     ]
    },
    {
     "name": "stderr",
     "output_type": "stream",
     "text": [
      "[Parallel(n_jobs=-1)]: Using backend LokyBackend with 4 concurrent workers.\n",
      "[Parallel(n_jobs=-1)]: Done  30 out of  30 | elapsed:  5.0min finished\n"
     ]
    },
    {
     "name": "stdout",
     "output_type": "stream",
     "text": [
      "Best Parameters For Logistic Regression With TFIDF Vectorizer :  {'C': 1.5, 'penalty': 'l2'}\n",
      "--------------------------------------------------------------------------------------------------------------\n",
      "Training Accuracy for Logistic Regression With TFIDF Vectorizer :\n",
      "0.9923076923076923\n",
      "--------------------------------------------------------------------------------------------------------------\n",
      "Test Accuracy for Logistic Regression With TFIDF Vectorizer :\n",
      "0.9644230769230769\n",
      "--------------------------------------------------------------------------------------------------------------\n"
     ]
    },
    {
     "data": {
      "image/png": "[encoded data removed]",
      "text/plain": [
       "<Figure size 432x288 with 2 Axes>"
      ]
     },
     "metadata": {
      "needs_background": "light"
     },
     "output_type": "display_data"
    }
   ],
   "source": [
    "# Tuning Hyper-Parameters\n",
    "grid_parameters = {'C' : [0.01, 0.1, 0.5, 1, 1.5], 'penalty': ['l1','l2']}\n",
    "\n",
    "# Instantiate the classifier\n",
    "lrt_classifier_tfidf = GridSearchCV(LogisticRegression(), grid_parameters, verbose = 1, cv = 3, n_jobs = -1)\n",
    "\n",
    "# Train the model using tfidf_train\n",
    "lrt_classifier_tfidf.fit(tfidf_train, y_train)\n",
    "\n",
    "# Finding best_estimator\n",
    "lrt_classifier_tfidf_best = lrt_classifier_tfidf.best_estimator_\n",
    "\n",
    "# Predicting for Test data using tfidf_test\n",
    "y_pred_lrt_tfidf = lrt_classifier_tfidf_best.predict(tfidf_test)\n",
    "\n",
    "print (\"Best Parameters For Logistic Regression With TFIDF Vectorizer : \", lrt_classifier_tfidf.best_params_)\n",
    "print('-'*110)\n",
    "\n",
    "# Evaluation\n",
    "print(\"Training Accuracy for Logistic Regression With TFIDF Vectorizer :\")\n",
    "print(lrt_classifier_tfidf_best.score(tfidf_train, y_train))\n",
    "print('-'*110)\n",
    "\n",
    "print(\"Test Accuracy for Logistic Regression With TFIDF Vectorizer :\")\n",
    "print(accuracy_score(y_pred_lrt_tfidf , y_test))\n",
    "print('-'*110)\n",
    "\n",
    "# Plotting Confusion matrix\n",
    "cm = metrics.confusion_matrix(y_test, y_pred_lrt_tfidf, labels = [0,1])\n",
    "plot_confusion_matrix(cm, classes = ['TRUE','FAKE'], title ='Confusion Matrix for a Logistic Regression With TFIDF Vectorizer')"
   ]
  },
  {
   "cell_type": "markdown",
   "metadata": {},
   "source": [
    "### 3.3 Logistic Regression with Pipelined (BOW-TFIDF Transformer)"
   ]
  },
  {
   "cell_type": "code",
   "execution_count": 35,
   "metadata": {},
   "outputs": [
    {
     "name": "stdout",
     "output_type": "stream",
     "text": [
      "Fitting 3 folds for each of 10 candidates, totalling 30 fits\n"
     ]
    },
    {
     "name": "stderr",
     "output_type": "stream",
     "text": [
      "[Parallel(n_jobs=-1)]: Using backend LokyBackend with 4 concurrent workers.\n",
      "[Parallel(n_jobs=-1)]: Done  30 out of  30 | elapsed:  9.9min finished\n"
     ]
    },
    {
     "name": "stdout",
     "output_type": "stream",
     "text": [
      "Best Parameters For Logistic Regression With Pipelined Transformer :  {'C': 1.5, 'penalty': 'l2'}\n",
      "--------------------------------------------------------------------------------------------------------------\n",
      "Training Accuracy for Logistic Regression With Pipelined Transformer :\n",
      "0.9923076923076923\n",
      "--------------------------------------------------------------------------------------------------------------\n",
      "Test Accuracy for Logistic Regression With Pipelined Transformer :\n",
      "0.9644230769230769\n",
      "--------------------------------------------------------------------------------------------------------------\n"
     ]
    },
    {
     "data": {
      "image/png": "[encoded data removed]",
      "text/plain": [
       "<Figure size 432x288 with 2 Axes>"
      ]
     },
     "metadata": {
      "needs_background": "light"
     },
     "output_type": "display_data"
    }
   ],
   "source": [
    "# Tuning Hyper-Parameters\n",
    "grid_parameters = {'C' : [0.01, 0.1, 0.5, 1, 1.5], 'penalty': ['l1','l2']}\n",
    "\n",
    "# Instantiate the classifier\n",
    "lrp_classifier_pipelined = GridSearchCV(LogisticRegression(), grid_parameters, verbose = 1, cv = 3, n_jobs = -1)\n",
    "\n",
    "# Train the model using pipelined_train\n",
    "lrp_classifier_pipelined.fit(pipelined_train, y_train)\n",
    "\n",
    "# Finding best_estimator\n",
    "lrp_classifier_pipelined_best = lrp_classifier_pipelined.best_estimator_\n",
    "\n",
    "# Predicting for Test data using pipelined_test\n",
    "y_pred_lrp_pipelined = lrp_classifier_pipelined_best.predict(pipelined_test)\n",
    "\n",
    "print (\"Best Parameters For Logistic Regression With Pipelined Transformer : \", lrp_classifier_pipelined.best_params_)\n",
    "print('-'*110)\n",
    "\n",
    "# Evaluation\n",
    "print(\"Training Accuracy for Logistic Regression With Pipelined Transformer :\")\n",
    "print(lrp_classifier_pipelined_best.score(tfidf_train, y_train))\n",
    "print('-'*110)\n",
    "\n",
    "print(\"Test Accuracy for Logistic Regression With Pipelined Transformer :\")\n",
    "print(accuracy_score(y_pred_lrp_pipelined , y_test))\n",
    "print('-'*110)\n",
    "\n",
    "# Plotting Confusion matrix\n",
    "cm = metrics.confusion_matrix(y_test, y_pred_lrp_pipelined, labels = [0,1])\n",
    "plot_confusion_matrix(cm, classes = ['TRUE','FAKE'], title ='Confusion Matrix for a Logistic Regression With Pipelined Transformer')"
   ]
  },
  {
   "cell_type": "markdown",
   "metadata": {},
   "source": [
    "## Conclusions For Machine Learning Algorithms"
   ]
  },
  {
   "cell_type": "markdown",
   "metadata": {},
   "source": [
    "- We get highest Accuracy with **Passive Agressive Classifier With Pipelined (BOW-TFIDF Transformer)** about 98.02% on test data. But when we analyse confusion matrix we have more number of fake news labeled as true news i.e. 58.\n",
    "- We get good Accuracy with **Logistic Regression with CountVectorizer (Bag-of-Words)** about 97.88% on test data. Even though the accuracy score is a bit lower, we have less fake news labeled as true news ie. only 41. \n",
    "- Therefore, this model can be chosen for Submitting the actual test file because it seems to maximize the accuracy while minimizing the false negative rate!\n",
    "- But yet before reaching to final conclusion lets analyze by using Deep Learning Techniques"
   ]
  },
  {
   "cell_type": "markdown",
   "metadata": {},
   "source": [
    "## 4. LSTMs"
   ]
  },
  {
   "cell_type": "code",
   "execution_count": 36,
   "metadata": {},
   "outputs": [
    {
     "data": {
      "text/html": [
       "<div>\n",
       "<style scoped>\n",
       "    .dataframe tbody tr th:only-of-type {\n",
       "        vertical-align: middle;\n",
       "    }\n",
       "\n",
       "    .dataframe tbody tr th {\n",
       "        vertical-align: top;\n",
       "    }\n",
       "\n",
       "    .dataframe thead th {\n",
       "        text-align: right;\n",
       "    }\n",
       "</style>\n",
       "<table border=\"1\" class=\"dataframe\">\n",
       "  <thead>\n",
       "    <tr style=\"text-align: right;\">\n",
       "      <th></th>\n",
       "      <th>id</th>\n",
       "      <th>title</th>\n",
       "      <th>author</th>\n",
       "      <th>text</th>\n",
       "      <th>label</th>\n",
       "      <th>total</th>\n",
       "      <th>news_length</th>\n",
       "    </tr>\n",
       "  </thead>\n",
       "  <tbody>\n",
       "    <tr>\n",
       "      <th>0</th>\n",
       "      <td>0</td>\n",
       "      <td>House Dem Aide: We Didn’t Even See Comey’s Let...</td>\n",
       "      <td>Darrell Lucus</td>\n",
       "      <td>House Dem Aide: We Didn’t Even See Comey’s Let...</td>\n",
       "      <td>1</td>\n",
       "      <td>House Dem Aide: We Didn’t Even See Comey’s Let...</td>\n",
       "      <td>4930</td>\n",
       "    </tr>\n",
       "    <tr>\n",
       "      <th>1</th>\n",
       "      <td>1</td>\n",
       "      <td>FLYNN: Hillary Clinton, Big Woman on Campus - ...</td>\n",
       "      <td>Daniel J. Flynn</td>\n",
       "      <td>Ever get the feeling your life circles the rou...</td>\n",
       "      <td>0</td>\n",
       "      <td>FLYNN: Hillary Clinton, Big Woman on Campus - ...</td>\n",
       "      <td>4160</td>\n",
       "    </tr>\n",
       "    <tr>\n",
       "      <th>2</th>\n",
       "      <td>2</td>\n",
       "      <td>Why the Truth Might Get You Fired</td>\n",
       "      <td>Consortiumnews.com</td>\n",
       "      <td>Why the Truth Might Get You Fired October 29, ...</td>\n",
       "      <td>1</td>\n",
       "      <td>Why the Truth Might Get You Fired Consortiumne...</td>\n",
       "      <td>7692</td>\n",
       "    </tr>\n",
       "    <tr>\n",
       "      <th>3</th>\n",
       "      <td>3</td>\n",
       "      <td>15 Civilians Killed In Single US Airstrike Hav...</td>\n",
       "      <td>Jessica Purkiss</td>\n",
       "      <td>Videos 15 Civilians Killed In Single US Airstr...</td>\n",
       "      <td>1</td>\n",
       "      <td>15 Civilians Killed In Single US Airstrike Hav...</td>\n",
       "      <td>3237</td>\n",
       "    </tr>\n",
       "    <tr>\n",
       "      <th>4</th>\n",
       "      <td>4</td>\n",
       "      <td>Iranian woman jailed for fictional unpublished...</td>\n",
       "      <td>Howard Portnoy</td>\n",
       "      <td>Print \\nAn Iranian woman has been sentenced to...</td>\n",
       "      <td>1</td>\n",
       "      <td>Iranian woman jailed for fictional unpublished...</td>\n",
       "      <td>938</td>\n",
       "    </tr>\n",
       "  </tbody>\n",
       "</table>\n",
       "</div>"
      ],
      "text/plain": [
       "   id                                              title              author  \\\n",
       "0   0  House Dem Aide: We Didn’t Even See Comey’s Let...       Darrell Lucus   \n",
       "1   1  FLYNN: Hillary Clinton, Big Woman on Campus - ...     Daniel J. Flynn   \n",
       "2   2                  Why the Truth Might Get You Fired  Consortiumnews.com   \n",
       "3   3  15 Civilians Killed In Single US Airstrike Hav...     Jessica Purkiss   \n",
       "4   4  Iranian woman jailed for fictional unpublished...      Howard Portnoy   \n",
       "\n",
       "                                                text  label  \\\n",
       "0  House Dem Aide: We Didn’t Even See Comey’s Let...      1   \n",
       "1  Ever get the feeling your life circles the rou...      0   \n",
       "2  Why the Truth Might Get You Fired October 29, ...      1   \n",
       "3  Videos 15 Civilians Killed In Single US Airstr...      1   \n",
       "4  Print \\nAn Iranian woman has been sentenced to...      1   \n",
       "\n",
       "                                               total  news_length  \n",
       "0  House Dem Aide: We Didn’t Even See Comey’s Let...         4930  \n",
       "1  FLYNN: Hillary Clinton, Big Woman on Campus - ...         4160  \n",
       "2  Why the Truth Might Get You Fired Consortiumne...         7692  \n",
       "3  15 Civilians Killed In Single US Airstrike Hav...         3237  \n",
       "4  Iranian woman jailed for fictional unpublished...          938  "
      ]
     },
     "execution_count": 36,
     "metadata": {},
     "output_type": "execute_result"
    }
   ],
   "source": [
    "# Lets copy the original data into new variable\n",
    "new_train_data = train_data.copy()\n",
    "new_train_data.head()"
   ]
  },
  {
   "cell_type": "code",
   "execution_count": 37,
   "metadata": {},
   "outputs": [
    {
     "data": {
      "text/html": [
       "<div>\n",
       "<style scoped>\n",
       "    .dataframe tbody tr th:only-of-type {\n",
       "        vertical-align: middle;\n",
       "    }\n",
       "\n",
       "    .dataframe tbody tr th {\n",
       "        vertical-align: top;\n",
       "    }\n",
       "\n",
       "    .dataframe thead th {\n",
       "        text-align: right;\n",
       "    }\n",
       "</style>\n",
       "<table border=\"1\" class=\"dataframe\">\n",
       "  <thead>\n",
       "    <tr style=\"text-align: right;\">\n",
       "      <th></th>\n",
       "      <th>id</th>\n",
       "      <th>title</th>\n",
       "      <th>author</th>\n",
       "      <th>text</th>\n",
       "      <th>label</th>\n",
       "      <th>total</th>\n",
       "      <th>news_length</th>\n",
       "    </tr>\n",
       "  </thead>\n",
       "  <tbody>\n",
       "    <tr>\n",
       "      <th>9663</th>\n",
       "      <td>9663</td>\n",
       "      <td>A Virginia Reader Writes On The Astounding Chu...</td>\n",
       "      <td>VDARE.com Reader</td>\n",
       "      <td></td>\n",
       "      <td>1</td>\n",
       "      <td>A Virginia Reader Writes On The Astounding Chu...</td>\n",
       "      <td>1</td>\n",
       "    </tr>\n",
       "    <tr>\n",
       "      <th>19157</th>\n",
       "      <td>19157</td>\n",
       "      <td>110% des Américains assurent qu’ils continuero...</td>\n",
       "      <td></td>\n",
       "      <td></td>\n",
       "      <td>1</td>\n",
       "      <td>110% des Américains assurent qu’ils continuero...</td>\n",
       "      <td>1</td>\n",
       "    </tr>\n",
       "    <tr>\n",
       "      <th>17819</th>\n",
       "      <td>17819</td>\n",
       "      <td>James Bowman: “Vote For The Creep, It’s Import...</td>\n",
       "      <td>James Fulford</td>\n",
       "      <td></td>\n",
       "      <td>1</td>\n",
       "      <td>James Bowman: “Vote For The Creep, It’s Import...</td>\n",
       "      <td>1</td>\n",
       "    </tr>\n",
       "    <tr>\n",
       "      <th>14933</th>\n",
       "      <td>14933</td>\n",
       "      <td>La sortie du dernier livre inédit du Gorafi éc...</td>\n",
       "      <td></td>\n",
       "      <td></td>\n",
       "      <td>1</td>\n",
       "      <td>La sortie du dernier livre inédit du Gorafi éc...</td>\n",
       "      <td>1</td>\n",
       "    </tr>\n",
       "    <tr>\n",
       "      <th>1200</th>\n",
       "      <td>1200</td>\n",
       "      <td>La Corée du Nord annonce avoir envoyé un missi...</td>\n",
       "      <td></td>\n",
       "      <td></td>\n",
       "      <td>1</td>\n",
       "      <td>La Corée du Nord annonce avoir envoyé un missi...</td>\n",
       "      <td>1</td>\n",
       "    </tr>\n",
       "    <tr>\n",
       "      <th>...</th>\n",
       "      <td>...</td>\n",
       "      <td>...</td>\n",
       "      <td>...</td>\n",
       "      <td>...</td>\n",
       "      <td>...</td>\n",
       "      <td>...</td>\n",
       "      <td>...</td>\n",
       "    </tr>\n",
       "    <tr>\n",
       "      <th>14293</th>\n",
       "      <td>14293</td>\n",
       "      <td>Re: It Is Now Mathematically Impossible To Pay...</td>\n",
       "      <td>Don</td>\n",
       "      <td>It Is Now Mathematically Impossible To Pay Off...</td>\n",
       "      <td>1</td>\n",
       "      <td>Re: It Is Now Mathematically Impossible To Pay...</td>\n",
       "      <td>99355</td>\n",
       "    </tr>\n",
       "    <tr>\n",
       "      <th>8719</th>\n",
       "      <td>8719</td>\n",
       "      <td>Re: How Many People Will Have To Migrate Out O...</td>\n",
       "      <td>Get it right</td>\n",
       "      <td>How Many People Will Have To Migrate Out Of Ca...</td>\n",
       "      <td>1</td>\n",
       "      <td>Re: How Many People Will Have To Migrate Out O...</td>\n",
       "      <td>115010</td>\n",
       "    </tr>\n",
       "    <tr>\n",
       "      <th>7530</th>\n",
       "      <td>7530</td>\n",
       "      <td>Re: Why Are So Many People Choosing To Leave T...</td>\n",
       "      <td>BOOTOUTTHEBULLIES</td>\n",
       "      <td>Why Are So Many People Choosing To Leave The U...</td>\n",
       "      <td>1</td>\n",
       "      <td>Re: Why Are So Many People Choosing To Leave T...</td>\n",
       "      <td>115372</td>\n",
       "    </tr>\n",
       "    <tr>\n",
       "      <th>13533</th>\n",
       "      <td>13533</td>\n",
       "      <td>Re: The Hard Working American vs. The Governme...</td>\n",
       "      <td>Janet Witt</td>\n",
       "      <td>The Hard Working American vs. The Government P...</td>\n",
       "      <td>1</td>\n",
       "      <td>Re: The Hard Working American vs. The Governme...</td>\n",
       "      <td>134206</td>\n",
       "    </tr>\n",
       "    <tr>\n",
       "      <th>19764</th>\n",
       "      <td>19764</td>\n",
       "      <td>Заседание Международного дискуссионного клуба ...</td>\n",
       "      <td>Владимир В. Путин</td>\n",
       "      <td>Заседание Международного дискуссионного клуба ...</td>\n",
       "      <td>1</td>\n",
       "      <td>Заседание Международного дискуссионного клуба ...</td>\n",
       "      <td>142961</td>\n",
       "    </tr>\n",
       "  </tbody>\n",
       "</table>\n",
       "<p>20800 rows × 7 columns</p>\n",
       "</div>"
      ],
      "text/plain": [
       "          id                                              title  \\\n",
       "9663    9663  A Virginia Reader Writes On The Astounding Chu...   \n",
       "19157  19157  110% des Américains assurent qu’ils continuero...   \n",
       "17819  17819  James Bowman: “Vote For The Creep, It’s Import...   \n",
       "14933  14933  La sortie du dernier livre inédit du Gorafi éc...   \n",
       "1200    1200  La Corée du Nord annonce avoir envoyé un missi...   \n",
       "...      ...                                                ...   \n",
       "14293  14293  Re: It Is Now Mathematically Impossible To Pay...   \n",
       "8719    8719  Re: How Many People Will Have To Migrate Out O...   \n",
       "7530    7530  Re: Why Are So Many People Choosing To Leave T...   \n",
       "13533  13533  Re: The Hard Working American vs. The Governme...   \n",
       "19764  19764  Заседание Международного дискуссионного клуба ...   \n",
       "\n",
       "                  author                                               text  \\\n",
       "9663    VDARE.com Reader                                                      \n",
       "19157                                                                         \n",
       "17819      James Fulford                                                      \n",
       "14933                                                                         \n",
       "1200                                                                          \n",
       "...                  ...                                                ...   \n",
       "14293                Don  It Is Now Mathematically Impossible To Pay Off...   \n",
       "8719        Get it right  How Many People Will Have To Migrate Out Of Ca...   \n",
       "7530   BOOTOUTTHEBULLIES  Why Are So Many People Choosing To Leave The U...   \n",
       "13533         Janet Witt  The Hard Working American vs. The Government P...   \n",
       "19764  Владимир В. Путин  Заседание Международного дискуссионного клуба ...   \n",
       "\n",
       "       label                                              total  news_length  \n",
       "9663       1  A Virginia Reader Writes On The Astounding Chu...            1  \n",
       "19157      1  110% des Américains assurent qu’ils continuero...            1  \n",
       "17819      1  James Bowman: “Vote For The Creep, It’s Import...            1  \n",
       "14933      1  La sortie du dernier livre inédit du Gorafi éc...            1  \n",
       "1200       1  La Corée du Nord annonce avoir envoyé un missi...            1  \n",
       "...      ...                                                ...          ...  \n",
       "14293      1  Re: It Is Now Mathematically Impossible To Pay...        99355  \n",
       "8719       1  Re: How Many People Will Have To Migrate Out O...       115010  \n",
       "7530       1  Re: Why Are So Many People Choosing To Leave T...       115372  \n",
       "13533      1  Re: The Hard Working American vs. The Governme...       134206  \n",
       "19764      1  Заседание Международного дискуссионного клуба ...       142961  \n",
       "\n",
       "[20800 rows x 7 columns]"
      ]
     },
     "execution_count": 37,
     "metadata": {},
     "output_type": "execute_result"
    }
   ],
   "source": [
    "# Lets sort the news based on 'news_length'\n",
    "new_train_data.sort_values(by = 'news_length', inplace = True)\n",
    "new_train_data"
   ]
  },
  {
   "cell_type": "markdown",
   "metadata": {},
   "source": [
    "**Note:**\n",
    "- As the Lengths of 'text' i.e description of news is in lakhs of words so due to lack of computational resources we will restrict our analysis to only 'title' column."
   ]
  },
  {
   "cell_type": "code",
   "execution_count": 38,
   "metadata": {
    "scrolled": true
   },
   "outputs": [
    {
     "data": {
      "text/html": [
       "<div>\n",
       "<style scoped>\n",
       "    .dataframe tbody tr th:only-of-type {\n",
       "        vertical-align: middle;\n",
       "    }\n",
       "\n",
       "    .dataframe tbody tr th {\n",
       "        vertical-align: top;\n",
       "    }\n",
       "\n",
       "    .dataframe thead th {\n",
       "        text-align: right;\n",
       "    }\n",
       "</style>\n",
       "<table border=\"1\" class=\"dataframe\">\n",
       "  <thead>\n",
       "    <tr style=\"text-align: right;\">\n",
       "      <th></th>\n",
       "      <th>id</th>\n",
       "      <th>title</th>\n",
       "      <th>author</th>\n",
       "      <th>text</th>\n",
       "      <th>label</th>\n",
       "      <th>total</th>\n",
       "      <th>news_length</th>\n",
       "    </tr>\n",
       "  </thead>\n",
       "  <tbody>\n",
       "    <tr>\n",
       "      <th>0</th>\n",
       "      <td>0</td>\n",
       "      <td>House Dem Aide: We Didn’t Even See Comey’s Let...</td>\n",
       "      <td>Darrell Lucus</td>\n",
       "      <td>House Dem Aide: We Didn’t Even See Comey’s Let...</td>\n",
       "      <td>1</td>\n",
       "      <td>House Dem Aide: We Didn’t Even See Comey’s Let...</td>\n",
       "      <td>4930</td>\n",
       "    </tr>\n",
       "    <tr>\n",
       "      <th>1</th>\n",
       "      <td>1</td>\n",
       "      <td>FLYNN: Hillary Clinton, Big Woman on Campus - ...</td>\n",
       "      <td>Daniel J. Flynn</td>\n",
       "      <td>Ever get the feeling your life circles the rou...</td>\n",
       "      <td>0</td>\n",
       "      <td>FLYNN: Hillary Clinton, Big Woman on Campus - ...</td>\n",
       "      <td>4160</td>\n",
       "    </tr>\n",
       "    <tr>\n",
       "      <th>2</th>\n",
       "      <td>2</td>\n",
       "      <td>Why the Truth Might Get You Fired</td>\n",
       "      <td>Consortiumnews.com</td>\n",
       "      <td>Why the Truth Might Get You Fired October 29, ...</td>\n",
       "      <td>1</td>\n",
       "      <td>Why the Truth Might Get You Fired Consortiumne...</td>\n",
       "      <td>7692</td>\n",
       "    </tr>\n",
       "    <tr>\n",
       "      <th>3</th>\n",
       "      <td>3</td>\n",
       "      <td>15 Civilians Killed In Single US Airstrike Hav...</td>\n",
       "      <td>Jessica Purkiss</td>\n",
       "      <td>Videos 15 Civilians Killed In Single US Airstr...</td>\n",
       "      <td>1</td>\n",
       "      <td>15 Civilians Killed In Single US Airstrike Hav...</td>\n",
       "      <td>3237</td>\n",
       "    </tr>\n",
       "    <tr>\n",
       "      <th>4</th>\n",
       "      <td>4</td>\n",
       "      <td>Iranian woman jailed for fictional unpublished...</td>\n",
       "      <td>Howard Portnoy</td>\n",
       "      <td>Print \\nAn Iranian woman has been sentenced to...</td>\n",
       "      <td>1</td>\n",
       "      <td>Iranian woman jailed for fictional unpublished...</td>\n",
       "      <td>938</td>\n",
       "    </tr>\n",
       "  </tbody>\n",
       "</table>\n",
       "</div>"
      ],
      "text/plain": [
       "   id                                              title              author  \\\n",
       "0   0  House Dem Aide: We Didn’t Even See Comey’s Let...       Darrell Lucus   \n",
       "1   1  FLYNN: Hillary Clinton, Big Woman on Campus - ...     Daniel J. Flynn   \n",
       "2   2                  Why the Truth Might Get You Fired  Consortiumnews.com   \n",
       "3   3  15 Civilians Killed In Single US Airstrike Hav...     Jessica Purkiss   \n",
       "4   4  Iranian woman jailed for fictional unpublished...      Howard Portnoy   \n",
       "\n",
       "                                                text  label  \\\n",
       "0  House Dem Aide: We Didn’t Even See Comey’s Let...      1   \n",
       "1  Ever get the feeling your life circles the rou...      0   \n",
       "2  Why the Truth Might Get You Fired October 29, ...      1   \n",
       "3  Videos 15 Civilians Killed In Single US Airstr...      1   \n",
       "4  Print \\nAn Iranian woman has been sentenced to...      1   \n",
       "\n",
       "                                               total  news_length  \n",
       "0  House Dem Aide: We Didn’t Even See Comey’s Let...         4930  \n",
       "1  FLYNN: Hillary Clinton, Big Woman on Campus - ...         4160  \n",
       "2  Why the Truth Might Get You Fired Consortiumne...         7692  \n",
       "3  15 Civilians Killed In Single US Airstrike Hav...         3237  \n",
       "4  Iranian woman jailed for fictional unpublished...          938  "
      ]
     },
     "execution_count": 38,
     "metadata": {},
     "output_type": "execute_result"
    }
   ],
   "source": [
    "# Lets copy the original data into new variable\n",
    "new_train_data = train_data.copy()\n",
    "new_train_data.head()"
   ]
  },
  {
   "cell_type": "code",
   "execution_count": 39,
   "metadata": {},
   "outputs": [],
   "source": [
    "# Considering only One Feature i.e 'title' as author will not make sense initially.\n",
    "x = new_train_data['title']\n",
    "y = new_train_data['label']"
   ]
  },
  {
   "cell_type": "code",
   "execution_count": 40,
   "metadata": {},
   "outputs": [
    {
     "data": {
      "text/plain": [
       "(20800,)"
      ]
     },
     "execution_count": 40,
     "metadata": {},
     "output_type": "execute_result"
    }
   ],
   "source": [
    "x.shape"
   ]
  },
  {
   "cell_type": "code",
   "execution_count": 41,
   "metadata": {},
   "outputs": [
    {
     "data": {
      "text/plain": [
       "(20800,)"
      ]
     },
     "execution_count": 41,
     "metadata": {},
     "output_type": "execute_result"
    }
   ],
   "source": [
    "y.shape"
   ]
  },
  {
   "cell_type": "markdown",
   "metadata": {},
   "source": [
    "### Pre-processing"
   ]
  },
  {
   "cell_type": "code",
   "execution_count": 42,
   "metadata": {},
   "outputs": [],
   "source": [
    "ps = PorterStemmer()\n",
    "corpus = []\n",
    "for i in range(0, len(new_train_data)):\n",
    "    \n",
    "    \n",
    "    title = re.sub('[^a-zA-Z]', ' ', new_train_data['title'][i])\n",
    "    title = title.lower()\n",
    "    title = title.split()\n",
    "    \n",
    "    STOPWORDS = set(stopwords.words('english')) - set(['not', \"aren't\", \"couldn't\", \"didn't\", \"doesn't\", \"don't\"\n",
    "                                                       \"hadn't\", \"haven't\", \"isn't\", \"shan't\", \"needn't\", \"shouldn't\"\n",
    "                                                       \"wasn't\", \"wouldn't\"])\n",
    "    \n",
    "    \n",
    "    title = [word for word in title if not word in STOPWORDS]\n",
    "    title = ' '.join(title)\n",
    "    corpus.append(title)"
   ]
  },
  {
   "cell_type": "code",
   "execution_count": 43,
   "metadata": {},
   "outputs": [
    {
     "data": {
      "text/plain": [
       "'house dem aide even see comey letter jason chaffetz tweeted'"
      ]
     },
     "execution_count": 43,
     "metadata": {},
     "output_type": "execute_result"
    }
   ],
   "source": [
    "# Lets look for some news title\n",
    "corpus[0]"
   ]
  },
  {
   "cell_type": "code",
   "execution_count": 44,
   "metadata": {},
   "outputs": [
    {
     "data": {
      "text/plain": [
       "'chuck todd buzzfeed eic published fake news breitbart'"
      ]
     },
     "execution_count": 44,
     "metadata": {},
     "output_type": "execute_result"
    }
   ],
   "source": [
    "corpus[30]"
   ]
  },
  {
   "cell_type": "code",
   "execution_count": 45,
   "metadata": {},
   "outputs": [],
   "source": [
    "# Consider vocabulory size as 7000\n",
    "vocab_size = 7000\n",
    "\n",
    "# Lets perform one hot representation\n",
    "one_hot_encode = [one_hot(words, vocab_size)for words in corpus]"
   ]
  },
  {
   "cell_type": "code",
   "execution_count": 46,
   "metadata": {},
   "outputs": [
    {
     "data": {
      "text/plain": [
       "10"
      ]
     },
     "execution_count": 46,
     "metadata": {},
     "output_type": "execute_result"
    }
   ],
   "source": [
    "# Consider length of first title\n",
    "len(one_hot_encode[0])"
   ]
  },
  {
   "cell_type": "code",
   "execution_count": 47,
   "metadata": {},
   "outputs": [
    {
     "name": "stdout",
     "output_type": "stream",
     "text": [
      "[[   0    0    0 ... 4944 3444 6218]\n",
      " [   0    0    0 ... 5184  838 5410]\n",
      " [   0    0    0 ... 2637 2968  548]\n",
      " ...\n",
      " [   0    0    0 ... 6407  532 1346]\n",
      " [   0    0    0 ... 2020 6410 1810]\n",
      " [   0    0    0 ... 5525 3207 2073]]\n"
     ]
    }
   ],
   "source": [
    "# Here we are specifying a sentence length so that each sentence in the corpus will be of same length. Consider 30 arbitarily\n",
    "\n",
    "sentence_length = 30\n",
    "\n",
    "# Lets perform padding for creating equal length sentences\n",
    "embedded_titles = pad_sequences(one_hot_encode, padding = 'pre', maxlen = sentence_length)\n",
    "print(embedded_titles)"
   ]
  },
  {
   "cell_type": "markdown",
   "metadata": {},
   "source": [
    "## Train - Test Splitting"
   ]
  },
  {
   "cell_type": "code",
   "execution_count": 48,
   "metadata": {},
   "outputs": [],
   "source": [
    "z = np.array(embedded_titles)\n",
    "y = np.array(y)"
   ]
  },
  {
   "cell_type": "code",
   "execution_count": 49,
   "metadata": {},
   "outputs": [],
   "source": [
    "X_train, X_test, y_train, y_test = train_test_split(z, y, test_size = 0.20, random_state = 1)"
   ]
  },
  {
   "cell_type": "markdown",
   "metadata": {},
   "source": [
    "## Modeling"
   ]
  },
  {
   "cell_type": "code",
   "execution_count": 50,
   "metadata": {},
   "outputs": [],
   "source": [
    "# Initializing the Model\n",
    "model = Sequential()\n",
    "\n",
    "# Adding Embedded Layer\n",
    "model.add(Embedding(input_dim = vocab_size, output_dim = 100, input_length = sentence_length))\n",
    "# Adding Dropout Layer\n",
    "model.add(Dropout(0.3))\n",
    "\n",
    "# Adding LSTM Layer\n",
    "model.add(LSTM(200))\n",
    "# Adding Dropout Layer\n",
    "model.add(Dropout(0.3))\n",
    "\n",
    "# Fully Connected Layer\n",
    "model.add(Dense(1, activation = 'sigmoid'))\n",
    "\n",
    "# Compiling the Model\n",
    "model.compile(loss = 'binary_crossentropy', optimizer = 'adam', metrics = ['accuracy'])"
   ]
  },
  {
   "cell_type": "code",
   "execution_count": 51,
   "metadata": {},
   "outputs": [
    {
     "name": "stdout",
     "output_type": "stream",
     "text": [
      "Model: \"sequential\"\n",
      "_________________________________________________________________\n",
      "Layer (type)                 Output Shape              Param #   \n",
      "=================================================================\n",
      "embedding (Embedding)        (None, 30, 100)           700000    \n",
      "_________________________________________________________________\n",
      "dropout (Dropout)            (None, 30, 100)           0         \n",
      "_________________________________________________________________\n",
      "lstm (LSTM)                  (None, 200)               240800    \n",
      "_________________________________________________________________\n",
      "dropout_1 (Dropout)          (None, 200)               0         \n",
      "_________________________________________________________________\n",
      "dense (Dense)                (None, 1)                 201       \n",
      "=================================================================\n",
      "Total params: 941,001\n",
      "Trainable params: 941,001\n",
      "Non-trainable params: 0\n",
      "_________________________________________________________________\n"
     ]
    }
   ],
   "source": [
    "model.summary()"
   ]
  },
  {
   "cell_type": "code",
   "execution_count": 52,
   "metadata": {},
   "outputs": [
    {
     "name": "stdout",
     "output_type": "stream",
     "text": [
      "Epoch 1/20\n",
      "260/260 [==============================] - 23s 88ms/step - loss: 0.2612 - accuracy: 0.8922 - val_loss: 0.1698 - val_accuracy: 0.9310\n",
      "Epoch 2/20\n",
      "260/260 [==============================] - 22s 83ms/step - loss: 0.1174 - accuracy: 0.9546 - val_loss: 0.1697 - val_accuracy: 0.9349\n",
      "Epoch 3/20\n",
      "260/260 [==============================] - 23s 88ms/step - loss: 0.0627 - accuracy: 0.9776 - val_loss: 0.2069 - val_accuracy: 0.9260\n",
      "Epoch 4/20\n",
      "260/260 [==============================] - 23s 90ms/step - loss: 0.0303 - accuracy: 0.9899 - val_loss: 0.2582 - val_accuracy: 0.9221\n",
      "Epoch 5/20\n",
      "260/260 [==============================] - 21s 80ms/step - loss: 0.0174 - accuracy: 0.9942 - val_loss: 0.3082 - val_accuracy: 0.9276\n",
      "Epoch 6/20\n",
      "260/260 [==============================] - 22s 83ms/step - loss: 0.0102 - accuracy: 0.9968 - val_loss: 0.4055 - val_accuracy: 0.9178\n",
      "Epoch 7/20\n",
      "260/260 [==============================] - 24s 92ms/step - loss: 0.0074 - accuracy: 0.9977 - val_loss: 0.3726 - val_accuracy: 0.9245\n",
      "Epoch 8/20\n",
      "260/260 [==============================] - 26s 99ms/step - loss: 0.0049 - accuracy: 0.9985 - val_loss: 0.4512 - val_accuracy: 0.9132\n",
      "Epoch 9/20\n",
      "260/260 [==============================] - 25s 98ms/step - loss: 0.0043 - accuracy: 0.9987 - val_loss: 0.4795 - val_accuracy: 0.9240\n",
      "Epoch 10/20\n",
      "260/260 [==============================] - 27s 103ms/step - loss: 0.0022 - accuracy: 0.9993 - val_loss: 0.5478 - val_accuracy: 0.9200\n",
      "Epoch 11/20\n",
      "260/260 [==============================] - 26s 102ms/step - loss: 0.0059 - accuracy: 0.9984 - val_loss: 0.4478 - val_accuracy: 0.9224\n",
      "Epoch 12/20\n",
      "260/260 [==============================] - 26s 101ms/step - loss: 0.0042 - accuracy: 0.9986 - val_loss: 0.4482 - val_accuracy: 0.9192\n",
      "Epoch 13/20\n",
      "260/260 [==============================] - 22s 86ms/step - loss: 0.0040 - accuracy: 0.9985 - val_loss: 0.5538 - val_accuracy: 0.9161\n",
      "Epoch 14/20\n",
      "260/260 [==============================] - 22s 86ms/step - loss: 0.0026 - accuracy: 0.9991 - val_loss: 0.5973 - val_accuracy: 0.9127\n",
      "Epoch 15/20\n",
      "260/260 [==============================] - 23s 90ms/step - loss: 0.0025 - accuracy: 0.9993 - val_loss: 0.5810 - val_accuracy: 0.9233\n",
      "Epoch 16/20\n",
      "260/260 [==============================] - 23s 87ms/step - loss: 9.1518e-04 - accuracy: 0.9998 - val_loss: 0.6662 - val_accuracy: 0.9214\n",
      "Epoch 17/20\n",
      "260/260 [==============================] - 22s 83ms/step - loss: 0.0027 - accuracy: 0.9990 - val_loss: 0.7366 - val_accuracy: 0.9111\n",
      "Epoch 18/20\n",
      "260/260 [==============================] - 22s 83ms/step - loss: 0.0052 - accuracy: 0.9982 - val_loss: 0.4802 - val_accuracy: 0.9183\n",
      "Epoch 19/20\n",
      "260/260 [==============================] - 22s 83ms/step - loss: 0.0030 - accuracy: 0.9990 - val_loss: 0.4962 - val_accuracy: 0.9171\n",
      "Epoch 20/20\n",
      "260/260 [==============================] - 21s 82ms/step - loss: 0.0024 - accuracy: 0.9992 - val_loss: 0.6160 - val_accuracy: 0.9144\n"
     ]
    }
   ],
   "source": [
    "model_result = model.fit(X_train, y_train, validation_data = (X_test, y_test), epochs = 20, batch_size = 64, workers = -1)"
   ]
  },
  {
   "cell_type": "code",
   "execution_count": 54,
   "metadata": {},
   "outputs": [
    {
     "name": "stdout",
     "output_type": "stream",
     "text": [
      "130/130 [==============================] - 2s 13ms/step - loss: 0.6160 - accuracy: 0.9144\n",
      "Test Loss is : 0.6160457134246826 and the Test Accuracy is: 0.9144230484962463\n"
     ]
    }
   ],
   "source": [
    "model_evaluation = model.evaluate(X_test, y_test)\n",
    "print('Test Loss is : {} and the Test Accuracy is: {}'.format(model_evaluation[0], model_evaluation[1]))"
   ]
  },
  {
   "cell_type": "code",
   "execution_count": 55,
   "metadata": {},
   "outputs": [],
   "source": [
    "# this function is used to update the plots for each epoch and error\n",
    "def plt_dynamic(x, vy, ty, ax, colors = ['b']):\n",
    "    ax.plot(x, vy, 'b', label = \"Validation Loss\")\n",
    "    ax.plot(x, ty, 'r', label = \"Train Loss\")\n",
    "    plt.legend()\n",
    "    plt.grid()\n",
    "    fig.canvas.draw()"
   ]
  },
  {
   "cell_type": "code",
   "execution_count": 56,
   "metadata": {},
   "outputs": [
    {
     "data": {
      "image/png": "[encoded data removed]",
      "text/plain": [
       "<Figure size 432x288 with 1 Axes>"
      ]
     },
     "metadata": {
      "needs_background": "light"
     },
     "output_type": "display_data"
    }
   ],
   "source": [
    "# Plotting Train & Validation Loss\n",
    "fig,ax = plt.subplots(1,1)\n",
    "ax.set_xlabel('epochs') \n",
    "ax.set_ylabel('Binary Crossentropy Loss')\n",
    "\n",
    "# list of epoch numbers\n",
    "p = list(range(1, 21))\n",
    "vy = model_result.history['val_loss']\n",
    "ty = model_result.history['loss']\n",
    "\n",
    "# Calling Function\n",
    "plt_dynamic(p, vy, ty, ax)"
   ]
  },
  {
   "cell_type": "markdown",
   "metadata": {},
   "source": [
    "**Observations:**\n",
    "- As seen from the above graph, our model is overfitting due to usage of only one Feature & limited vocab. Yet we have achieved the accuracy about 92.67% which is not bad.\n",
    "- If we utilized all the features then we could hope for better results. For now lets stop here."
   ]
  },
  {
   "cell_type": "markdown",
   "metadata": {},
   "source": [
    "# End Results"
   ]
  },
  {
   "cell_type": "markdown",
   "metadata": {},
   "source": [
    "- We get highest Accuracy with **Passive Agressive Classifier With Pipelined (BOW-TFIDF Transformer)** about 98.02% on test data. But when we analyse confusion matrix we have more number of fake news labeled as true news i.e. 58.\n",
    "- We get good Accuracy with **Logistic Regression with CountVectorizer (Bag-of-Words)** about 97.88% on test data. Even though the accuracy score is a bit lower, we have less fake news labeled as true news ie. only 41. \n",
    "- Therefore, this model can be chosen for Submitting the actual test file because it seems to maximize the accuracy while minimizing the false negative rate!"
   ]
  },
  {
   "cell_type": "markdown",
   "metadata": {},
   "source": [
    "# Working with Test Data"
   ]
  },
  {
   "cell_type": "code",
   "execution_count": 57,
   "metadata": {},
   "outputs": [
    {
     "data": {
      "text/html": [
       "<div>\n",
       "<style scoped>\n",
       "    .dataframe tbody tr th:only-of-type {\n",
       "        vertical-align: middle;\n",
       "    }\n",
       "\n",
       "    .dataframe tbody tr th {\n",
       "        vertical-align: top;\n",
       "    }\n",
       "\n",
       "    .dataframe thead th {\n",
       "        text-align: right;\n",
       "    }\n",
       "</style>\n",
       "<table border=\"1\" class=\"dataframe\">\n",
       "  <thead>\n",
       "    <tr style=\"text-align: right;\">\n",
       "      <th></th>\n",
       "      <th>id</th>\n",
       "      <th>title</th>\n",
       "      <th>author</th>\n",
       "      <th>text</th>\n",
       "    </tr>\n",
       "  </thead>\n",
       "  <tbody>\n",
       "    <tr>\n",
       "      <th>0</th>\n",
       "      <td>20800</td>\n",
       "      <td>Specter of Trump Loosens Tongues, if Not Purse...</td>\n",
       "      <td>David Streitfeld</td>\n",
       "      <td>PALO ALTO, Calif.  —   After years of scorning...</td>\n",
       "    </tr>\n",
       "    <tr>\n",
       "      <th>1</th>\n",
       "      <td>20801</td>\n",
       "      <td>Russian warships ready to strike terrorists ne...</td>\n",
       "      <td>NaN</td>\n",
       "      <td>Russian warships ready to strike terrorists ne...</td>\n",
       "    </tr>\n",
       "    <tr>\n",
       "      <th>2</th>\n",
       "      <td>20802</td>\n",
       "      <td>#NoDAPL: Native American Leaders Vow to Stay A...</td>\n",
       "      <td>Common Dreams</td>\n",
       "      <td>Videos #NoDAPL: Native American Leaders Vow to...</td>\n",
       "    </tr>\n",
       "    <tr>\n",
       "      <th>3</th>\n",
       "      <td>20803</td>\n",
       "      <td>Tim Tebow Will Attempt Another Comeback, This ...</td>\n",
       "      <td>Daniel Victor</td>\n",
       "      <td>If at first you don’t succeed, try a different...</td>\n",
       "    </tr>\n",
       "    <tr>\n",
       "      <th>4</th>\n",
       "      <td>20804</td>\n",
       "      <td>Keiser Report: Meme Wars (E995)</td>\n",
       "      <td>Truth Broadcast Network</td>\n",
       "      <td>42 mins ago 1 Views 0 Comments 0 Likes 'For th...</td>\n",
       "    </tr>\n",
       "  </tbody>\n",
       "</table>\n",
       "</div>"
      ],
      "text/plain": [
       "      id                                              title  \\\n",
       "0  20800  Specter of Trump Loosens Tongues, if Not Purse...   \n",
       "1  20801  Russian warships ready to strike terrorists ne...   \n",
       "2  20802  #NoDAPL: Native American Leaders Vow to Stay A...   \n",
       "3  20803  Tim Tebow Will Attempt Another Comeback, This ...   \n",
       "4  20804                    Keiser Report: Meme Wars (E995)   \n",
       "\n",
       "                    author                                               text  \n",
       "0         David Streitfeld  PALO ALTO, Calif.  —   After years of scorning...  \n",
       "1                      NaN  Russian warships ready to strike terrorists ne...  \n",
       "2            Common Dreams  Videos #NoDAPL: Native American Leaders Vow to...  \n",
       "3            Daniel Victor  If at first you don’t succeed, try a different...  \n",
       "4  Truth Broadcast Network  42 mins ago 1 Views 0 Comments 0 Likes 'For th...  "
      ]
     },
     "execution_count": 57,
     "metadata": {},
     "output_type": "execute_result"
    }
   ],
   "source": [
    "# Looking at test data\n",
    "test_data.head()"
   ]
  },
  {
   "cell_type": "code",
   "execution_count": 58,
   "metadata": {},
   "outputs": [
    {
     "data": {
      "text/plain": [
       "(5200, 4)"
      ]
     },
     "execution_count": 58,
     "metadata": {},
     "output_type": "execute_result"
    }
   ],
   "source": [
    "# Shape of train_data dataframe\n",
    "test_data.shape"
   ]
  },
  {
   "cell_type": "code",
   "execution_count": 59,
   "metadata": {},
   "outputs": [
    {
     "data": {
      "text/plain": [
       "id          0\n",
       "title     122\n",
       "author    503\n",
       "text        7\n",
       "dtype: int64"
      ]
     },
     "execution_count": 59,
     "metadata": {},
     "output_type": "execute_result"
    }
   ],
   "source": [
    "# Computing sum of Null values\n",
    "test_data.isnull().sum()"
   ]
  },
  {
   "cell_type": "code",
   "execution_count": 60,
   "metadata": {},
   "outputs": [],
   "source": [
    "# Handling Missing Values\n",
    "test_data = test_data.fillna(' ')"
   ]
  },
  {
   "cell_type": "code",
   "execution_count": 61,
   "metadata": {},
   "outputs": [
    {
     "data": {
      "text/html": [
       "<div>\n",
       "<style scoped>\n",
       "    .dataframe tbody tr th:only-of-type {\n",
       "        vertical-align: middle;\n",
       "    }\n",
       "\n",
       "    .dataframe tbody tr th {\n",
       "        vertical-align: top;\n",
       "    }\n",
       "\n",
       "    .dataframe thead th {\n",
       "        text-align: right;\n",
       "    }\n",
       "</style>\n",
       "<table border=\"1\" class=\"dataframe\">\n",
       "  <thead>\n",
       "    <tr style=\"text-align: right;\">\n",
       "      <th></th>\n",
       "      <th>id</th>\n",
       "      <th>title</th>\n",
       "      <th>author</th>\n",
       "      <th>text</th>\n",
       "    </tr>\n",
       "  </thead>\n",
       "  <tbody>\n",
       "    <tr>\n",
       "      <th>0</th>\n",
       "      <td>20800</td>\n",
       "      <td>Specter of Trump Loosens Tongues, if Not Purse...</td>\n",
       "      <td>David Streitfeld</td>\n",
       "      <td>PALO ALTO, Calif.  —   After years of scorning...</td>\n",
       "    </tr>\n",
       "    <tr>\n",
       "      <th>1</th>\n",
       "      <td>20801</td>\n",
       "      <td>Russian warships ready to strike terrorists ne...</td>\n",
       "      <td></td>\n",
       "      <td>Russian warships ready to strike terrorists ne...</td>\n",
       "    </tr>\n",
       "    <tr>\n",
       "      <th>2</th>\n",
       "      <td>20802</td>\n",
       "      <td>#NoDAPL: Native American Leaders Vow to Stay A...</td>\n",
       "      <td>Common Dreams</td>\n",
       "      <td>Videos #NoDAPL: Native American Leaders Vow to...</td>\n",
       "    </tr>\n",
       "    <tr>\n",
       "      <th>3</th>\n",
       "      <td>20803</td>\n",
       "      <td>Tim Tebow Will Attempt Another Comeback, This ...</td>\n",
       "      <td>Daniel Victor</td>\n",
       "      <td>If at first you don’t succeed, try a different...</td>\n",
       "    </tr>\n",
       "    <tr>\n",
       "      <th>4</th>\n",
       "      <td>20804</td>\n",
       "      <td>Keiser Report: Meme Wars (E995)</td>\n",
       "      <td>Truth Broadcast Network</td>\n",
       "      <td>42 mins ago 1 Views 0 Comments 0 Likes 'For th...</td>\n",
       "    </tr>\n",
       "  </tbody>\n",
       "</table>\n",
       "</div>"
      ],
      "text/plain": [
       "      id                                              title  \\\n",
       "0  20800  Specter of Trump Loosens Tongues, if Not Purse...   \n",
       "1  20801  Russian warships ready to strike terrorists ne...   \n",
       "2  20802  #NoDAPL: Native American Leaders Vow to Stay A...   \n",
       "3  20803  Tim Tebow Will Attempt Another Comeback, This ...   \n",
       "4  20804                    Keiser Report: Meme Wars (E995)   \n",
       "\n",
       "                    author                                               text  \n",
       "0         David Streitfeld  PALO ALTO, Calif.  —   After years of scorning...  \n",
       "1                           Russian warships ready to strike terrorists ne...  \n",
       "2            Common Dreams  Videos #NoDAPL: Native American Leaders Vow to...  \n",
       "3            Daniel Victor  If at first you don’t succeed, try a different...  \n",
       "4  Truth Broadcast Network  42 mins ago 1 Views 0 Comments 0 Likes 'For th...  "
      ]
     },
     "execution_count": 61,
     "metadata": {},
     "output_type": "execute_result"
    }
   ],
   "source": [
    "test_data.head()"
   ]
  },
  {
   "cell_type": "code",
   "execution_count": 62,
   "metadata": {},
   "outputs": [],
   "source": [
    "# Dropping duplicates\n",
    "test_data.drop_duplicates(inplace = True)"
   ]
  },
  {
   "cell_type": "code",
   "execution_count": 63,
   "metadata": {},
   "outputs": [
    {
     "data": {
      "text/html": [
       "<div>\n",
       "<style scoped>\n",
       "    .dataframe tbody tr th:only-of-type {\n",
       "        vertical-align: middle;\n",
       "    }\n",
       "\n",
       "    .dataframe tbody tr th {\n",
       "        vertical-align: top;\n",
       "    }\n",
       "\n",
       "    .dataframe thead th {\n",
       "        text-align: right;\n",
       "    }\n",
       "</style>\n",
       "<table border=\"1\" class=\"dataframe\">\n",
       "  <thead>\n",
       "    <tr style=\"text-align: right;\">\n",
       "      <th></th>\n",
       "      <th>id</th>\n",
       "      <th>title</th>\n",
       "      <th>author</th>\n",
       "      <th>text</th>\n",
       "      <th>total</th>\n",
       "    </tr>\n",
       "  </thead>\n",
       "  <tbody>\n",
       "    <tr>\n",
       "      <th>0</th>\n",
       "      <td>20800</td>\n",
       "      <td>Specter of Trump Loosens Tongues, if Not Purse...</td>\n",
       "      <td>David Streitfeld</td>\n",
       "      <td>PALO ALTO, Calif.  —   After years of scorning...</td>\n",
       "      <td>Specter of Trump Loosens Tongues, if Not Purse...</td>\n",
       "    </tr>\n",
       "    <tr>\n",
       "      <th>1</th>\n",
       "      <td>20801</td>\n",
       "      <td>Russian warships ready to strike terrorists ne...</td>\n",
       "      <td></td>\n",
       "      <td>Russian warships ready to strike terrorists ne...</td>\n",
       "      <td>Russian warships ready to strike terrorists ne...</td>\n",
       "    </tr>\n",
       "    <tr>\n",
       "      <th>2</th>\n",
       "      <td>20802</td>\n",
       "      <td>#NoDAPL: Native American Leaders Vow to Stay A...</td>\n",
       "      <td>Common Dreams</td>\n",
       "      <td>Videos #NoDAPL: Native American Leaders Vow to...</td>\n",
       "      <td>#NoDAPL: Native American Leaders Vow to Stay A...</td>\n",
       "    </tr>\n",
       "    <tr>\n",
       "      <th>3</th>\n",
       "      <td>20803</td>\n",
       "      <td>Tim Tebow Will Attempt Another Comeback, This ...</td>\n",
       "      <td>Daniel Victor</td>\n",
       "      <td>If at first you don’t succeed, try a different...</td>\n",
       "      <td>Tim Tebow Will Attempt Another Comeback, This ...</td>\n",
       "    </tr>\n",
       "    <tr>\n",
       "      <th>4</th>\n",
       "      <td>20804</td>\n",
       "      <td>Keiser Report: Meme Wars (E995)</td>\n",
       "      <td>Truth Broadcast Network</td>\n",
       "      <td>42 mins ago 1 Views 0 Comments 0 Likes 'For th...</td>\n",
       "      <td>Keiser Report: Meme Wars (E995) Truth Broadcas...</td>\n",
       "    </tr>\n",
       "  </tbody>\n",
       "</table>\n",
       "</div>"
      ],
      "text/plain": [
       "      id                                              title  \\\n",
       "0  20800  Specter of Trump Loosens Tongues, if Not Purse...   \n",
       "1  20801  Russian warships ready to strike terrorists ne...   \n",
       "2  20802  #NoDAPL: Native American Leaders Vow to Stay A...   \n",
       "3  20803  Tim Tebow Will Attempt Another Comeback, This ...   \n",
       "4  20804                    Keiser Report: Meme Wars (E995)   \n",
       "\n",
       "                    author                                               text  \\\n",
       "0         David Streitfeld  PALO ALTO, Calif.  —   After years of scorning...   \n",
       "1                           Russian warships ready to strike terrorists ne...   \n",
       "2            Common Dreams  Videos #NoDAPL: Native American Leaders Vow to...   \n",
       "3            Daniel Victor  If at first you don’t succeed, try a different...   \n",
       "4  Truth Broadcast Network  42 mins ago 1 Views 0 Comments 0 Likes 'For th...   \n",
       "\n",
       "                                               total  \n",
       "0  Specter of Trump Loosens Tongues, if Not Purse...  \n",
       "1  Russian warships ready to strike terrorists ne...  \n",
       "2  #NoDAPL: Native American Leaders Vow to Stay A...  \n",
       "3  Tim Tebow Will Attempt Another Comeback, This ...  \n",
       "4  Keiser Report: Meme Wars (E995) Truth Broadcas...  "
      ]
     },
     "execution_count": 63,
     "metadata": {},
     "output_type": "execute_result"
    }
   ],
   "source": [
    "# Create a column with all the data available\n",
    "test_data['total'] = test_data['title']+' '+test_data['author']+' '+test_data['text']\n",
    "test_data.head()"
   ]
  },
  {
   "cell_type": "code",
   "execution_count": 64,
   "metadata": {},
   "outputs": [],
   "source": [
    "test = test_data['total']"
   ]
  },
  {
   "cell_type": "code",
   "execution_count": 65,
   "metadata": {},
   "outputs": [],
   "source": [
    "# Initialize the 'count_vectorizer' \n",
    "cv = CountVectorizer(ngram_range = (1, 2), stop_words = 'english')\n",
    "\n",
    "# fit and transform the training data\n",
    "count_train = cv.fit_transform(x_train)\n",
    "\n",
    "# Transform the test data \n",
    "test_bow = cv.transform(test)"
   ]
  },
  {
   "cell_type": "code",
   "execution_count": 66,
   "metadata": {},
   "outputs": [
    {
     "name": "stdout",
     "output_type": "stream",
     "text": [
      "Shape of Sparse Matrix:  (16640, 3922396)\n",
      "Amount of Non-Zero occurences:  10598929\n"
     ]
    }
   ],
   "source": [
    "print('Shape of Sparse Matrix: ', count_train.shape)\n",
    "print('Amount of Non-Zero occurences: ', count_train.nnz)"
   ]
  },
  {
   "cell_type": "code",
   "execution_count": 67,
   "metadata": {},
   "outputs": [
    {
     "name": "stdout",
     "output_type": "stream",
     "text": [
      "Shape of Sparse Matrix:  (5200, 3922396)\n",
      "Amount of Non-Zero occurences:  2379234\n"
     ]
    }
   ],
   "source": [
    "print('Shape of Sparse Matrix: ', test_bow.shape)\n",
    "print('Amount of Non-Zero occurences: ', test_bow.nnz)"
   ]
  },
  {
   "cell_type": "code",
   "execution_count": 68,
   "metadata": {},
   "outputs": [],
   "source": [
    "pred_test_data = lr_classifier_bow_best.predict(test_bow)"
   ]
  },
  {
   "cell_type": "code",
   "execution_count": 69,
   "metadata": {},
   "outputs": [],
   "source": [
    "final_submission = test_data\n",
    "final_submission['Predicted_Label'] = pred_test_data\n",
    "final_submission.to_csv('Fake_News_Prediction.csv', index = False)"
   ]
  },
  {
   "cell_type": "markdown",
   "metadata": {},
   "source": [
    "# End of File"
   ]
  }
 ],
 "metadata": {
  "kernelspec": {
   "display_name": "Python 3",
   "language": "python",
   "name": "python3"
  },
  "language_info": {
   "codemirror_mode": {
    "name": "ipython",
    "version": 3
   },
   "file_extension": ".py",
   "mimetype": "text/x-python",
   "name": "python",
   "nbconvert_exporter": "python",
   "pygments_lexer": "ipython3",
   "version": "3.7.3"
  }
 },
 "nbformat": 4,
 "nbformat_minor": 4
}
